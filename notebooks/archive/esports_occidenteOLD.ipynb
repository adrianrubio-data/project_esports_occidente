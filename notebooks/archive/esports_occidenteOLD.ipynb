{
 "cells": [
  {
   "cell_type": "code",
   "execution_count": 1,
   "id": "9123b6be",
   "metadata": {},
   "outputs": [
    {
     "name": "stdout",
     "output_type": "stream",
     "text": [
      "CWD antes: c:\\Users\\cubea\\OneDrive\\Escritorio\\project_esports_occidente\\notebooks\n",
      "CWD ahora: c:\\Users\\cubea\\OneDrive\\Escritorio\\project_esports_occidente\n"
     ]
    }
   ],
   "source": [
    "import os\n",
    "print(\"CWD antes:\", os.getcwd())  # dónde está apuntando el notebook\n",
    "\n",
    "# Si esto imprime .../project_esports_occidente/notebooks\n",
    "# entonces subimos a la carpeta raíz del proyecto:\n",
    "if os.path.basename(os.getcwd()) == \"notebooks\":\n",
    "    os.chdir(\"..\")\n",
    "\n",
    "print(\"CWD ahora:\", os.getcwd())  # debería terminar en .../project_esports_occidente\n"
   ]
  },
  {
   "cell_type": "code",
   "execution_count": 2,
   "id": "3e769190",
   "metadata": {},
   "outputs": [
    {
     "data": {
      "application/vnd.microsoft.datawrangler.viewer.v0+json": {
       "columns": [
        {
         "name": "index",
         "rawType": "int64",
         "type": "integer"
        },
        {
         "name": "Rank",
         "rawType": "int64",
         "type": "integer"
        },
        {
         "name": "Game",
         "rawType": "object",
         "type": "string"
        },
        {
         "name": "Month",
         "rawType": "int64",
         "type": "integer"
        },
        {
         "name": "Year",
         "rawType": "int64",
         "type": "integer"
        },
        {
         "name": "Hours_watched",
         "rawType": "int64",
         "type": "integer"
        },
        {
         "name": "Hours_streamed",
         "rawType": "int64",
         "type": "integer"
        },
        {
         "name": "Peak_viewers",
         "rawType": "int64",
         "type": "integer"
        },
        {
         "name": "Peak_channels",
         "rawType": "int64",
         "type": "integer"
        },
        {
         "name": "Streamers",
         "rawType": "int64",
         "type": "integer"
        },
        {
         "name": "Avg_viewers",
         "rawType": "int64",
         "type": "integer"
        },
        {
         "name": "Avg_channels",
         "rawType": "int64",
         "type": "integer"
        },
        {
         "name": "Avg_viewer_ratio",
         "rawType": "float64",
         "type": "float"
        }
       ],
       "ref": "c51a241c-4103-460d-8ae1-4cce48526646",
       "rows": [
        [
         "0",
         "1",
         "League of Legends",
         "1",
         "2016",
         "94377226",
         "1362044",
         "530270",
         "2903",
         "129172",
         "127021",
         "1833",
         "69.29"
        ],
        [
         "1",
         "2",
         "Counter-Strike: Global Offensive",
         "1",
         "2016",
         "47832863",
         "830105",
         "372654",
         "2197",
         "120849",
         "64378",
         "1117",
         "57.62"
        ],
        [
         "2",
         "3",
         "Dota 2",
         "1",
         "2016",
         "45185893",
         "433397",
         "315083",
         "1100",
         "44074",
         "60815",
         "583",
         "104.26"
        ],
        [
         "3",
         "4",
         "Hearthstone",
         "1",
         "2016",
         "39936159",
         "235903",
         "131357",
         "517",
         "36170",
         "53749",
         "317",
         "169.29"
        ],
        [
         "4",
         "5",
         "Call of Duty: Black Ops III",
         "1",
         "2016",
         "16153057",
         "1151578",
         "71639",
         "3620",
         "214054",
         "21740",
         "1549",
         "14.03"
        ]
       ],
       "shape": {
        "columns": 12,
        "rows": 5
       }
      },
      "text/html": [
       "<div>\n",
       "<style scoped>\n",
       "    .dataframe tbody tr th:only-of-type {\n",
       "        vertical-align: middle;\n",
       "    }\n",
       "\n",
       "    .dataframe tbody tr th {\n",
       "        vertical-align: top;\n",
       "    }\n",
       "\n",
       "    .dataframe thead th {\n",
       "        text-align: right;\n",
       "    }\n",
       "</style>\n",
       "<table border=\"1\" class=\"dataframe\">\n",
       "  <thead>\n",
       "    <tr style=\"text-align: right;\">\n",
       "      <th></th>\n",
       "      <th>Rank</th>\n",
       "      <th>Game</th>\n",
       "      <th>Month</th>\n",
       "      <th>Year</th>\n",
       "      <th>Hours_watched</th>\n",
       "      <th>Hours_streamed</th>\n",
       "      <th>Peak_viewers</th>\n",
       "      <th>Peak_channels</th>\n",
       "      <th>Streamers</th>\n",
       "      <th>Avg_viewers</th>\n",
       "      <th>Avg_channels</th>\n",
       "      <th>Avg_viewer_ratio</th>\n",
       "    </tr>\n",
       "  </thead>\n",
       "  <tbody>\n",
       "    <tr>\n",
       "      <th>0</th>\n",
       "      <td>1</td>\n",
       "      <td>League of Legends</td>\n",
       "      <td>1</td>\n",
       "      <td>2016</td>\n",
       "      <td>94377226</td>\n",
       "      <td>1362044</td>\n",
       "      <td>530270</td>\n",
       "      <td>2903</td>\n",
       "      <td>129172</td>\n",
       "      <td>127021</td>\n",
       "      <td>1833</td>\n",
       "      <td>69.29</td>\n",
       "    </tr>\n",
       "    <tr>\n",
       "      <th>1</th>\n",
       "      <td>2</td>\n",
       "      <td>Counter-Strike: Global Offensive</td>\n",
       "      <td>1</td>\n",
       "      <td>2016</td>\n",
       "      <td>47832863</td>\n",
       "      <td>830105</td>\n",
       "      <td>372654</td>\n",
       "      <td>2197</td>\n",
       "      <td>120849</td>\n",
       "      <td>64378</td>\n",
       "      <td>1117</td>\n",
       "      <td>57.62</td>\n",
       "    </tr>\n",
       "    <tr>\n",
       "      <th>2</th>\n",
       "      <td>3</td>\n",
       "      <td>Dota 2</td>\n",
       "      <td>1</td>\n",
       "      <td>2016</td>\n",
       "      <td>45185893</td>\n",
       "      <td>433397</td>\n",
       "      <td>315083</td>\n",
       "      <td>1100</td>\n",
       "      <td>44074</td>\n",
       "      <td>60815</td>\n",
       "      <td>583</td>\n",
       "      <td>104.26</td>\n",
       "    </tr>\n",
       "    <tr>\n",
       "      <th>3</th>\n",
       "      <td>4</td>\n",
       "      <td>Hearthstone</td>\n",
       "      <td>1</td>\n",
       "      <td>2016</td>\n",
       "      <td>39936159</td>\n",
       "      <td>235903</td>\n",
       "      <td>131357</td>\n",
       "      <td>517</td>\n",
       "      <td>36170</td>\n",
       "      <td>53749</td>\n",
       "      <td>317</td>\n",
       "      <td>169.29</td>\n",
       "    </tr>\n",
       "    <tr>\n",
       "      <th>4</th>\n",
       "      <td>5</td>\n",
       "      <td>Call of Duty: Black Ops III</td>\n",
       "      <td>1</td>\n",
       "      <td>2016</td>\n",
       "      <td>16153057</td>\n",
       "      <td>1151578</td>\n",
       "      <td>71639</td>\n",
       "      <td>3620</td>\n",
       "      <td>214054</td>\n",
       "      <td>21740</td>\n",
       "      <td>1549</td>\n",
       "      <td>14.03</td>\n",
       "    </tr>\n",
       "  </tbody>\n",
       "</table>\n",
       "</div>"
      ],
      "text/plain": [
       "   Rank                              Game  Month  Year  Hours_watched  \\\n",
       "0     1                 League of Legends      1  2016       94377226   \n",
       "1     2  Counter-Strike: Global Offensive      1  2016       47832863   \n",
       "2     3                            Dota 2      1  2016       45185893   \n",
       "3     4                       Hearthstone      1  2016       39936159   \n",
       "4     5       Call of Duty: Black Ops III      1  2016       16153057   \n",
       "\n",
       "   Hours_streamed  Peak_viewers  Peak_channels  Streamers  Avg_viewers  \\\n",
       "0         1362044        530270           2903     129172       127021   \n",
       "1          830105        372654           2197     120849        64378   \n",
       "2          433397        315083           1100      44074        60815   \n",
       "3          235903        131357            517      36170        53749   \n",
       "4         1151578         71639           3620     214054        21740   \n",
       "\n",
       "   Avg_channels  Avg_viewer_ratio  \n",
       "0          1833             69.29  \n",
       "1          1117             57.62  \n",
       "2           583            104.26  \n",
       "3           317            169.29  \n",
       "4          1549             14.03  "
      ]
     },
     "metadata": {},
     "output_type": "display_data"
    },
    {
     "data": {
      "application/vnd.microsoft.datawrangler.viewer.v0+json": {
       "columns": [
        {
         "name": "index",
         "rawType": "int64",
         "type": "integer"
        },
        {
         "name": "Date",
         "rawType": "object",
         "type": "string"
        },
        {
         "name": "Game",
         "rawType": "object",
         "type": "string"
        },
        {
         "name": "Earnings",
         "rawType": "float64",
         "type": "float"
        },
        {
         "name": "Players",
         "rawType": "int64",
         "type": "integer"
        },
        {
         "name": "Tournaments",
         "rawType": "int64",
         "type": "integer"
        }
       ],
       "ref": "fe4cde73-22d0-4678-b6ed-5a6191c8ac03",
       "rows": [
        [
         "0",
         "1998-01-01",
         "Command & Conquer: Red Alert",
         "15000.0",
         "8",
         "1"
        ],
        [
         "1",
         "1998-01-01",
         "QuakeWorld",
         "15000.0",
         "8",
         "1"
        ],
        [
         "2",
         "1998-05-01",
         "Quake II",
         "15000.0",
         "4",
         "1"
        ],
        [
         "3",
         "1998-05-01",
         "Total Annihilation",
         "15000.0",
         "2",
         "1"
        ],
        [
         "4",
         "1998-05-01",
         "QuakeWorld",
         "300.0",
         "3",
         "1"
        ]
       ],
       "shape": {
        "columns": 5,
        "rows": 5
       }
      },
      "text/html": [
       "<div>\n",
       "<style scoped>\n",
       "    .dataframe tbody tr th:only-of-type {\n",
       "        vertical-align: middle;\n",
       "    }\n",
       "\n",
       "    .dataframe tbody tr th {\n",
       "        vertical-align: top;\n",
       "    }\n",
       "\n",
       "    .dataframe thead th {\n",
       "        text-align: right;\n",
       "    }\n",
       "</style>\n",
       "<table border=\"1\" class=\"dataframe\">\n",
       "  <thead>\n",
       "    <tr style=\"text-align: right;\">\n",
       "      <th></th>\n",
       "      <th>Date</th>\n",
       "      <th>Game</th>\n",
       "      <th>Earnings</th>\n",
       "      <th>Players</th>\n",
       "      <th>Tournaments</th>\n",
       "    </tr>\n",
       "  </thead>\n",
       "  <tbody>\n",
       "    <tr>\n",
       "      <th>0</th>\n",
       "      <td>1998-01-01</td>\n",
       "      <td>Command &amp; Conquer: Red Alert</td>\n",
       "      <td>15000.0</td>\n",
       "      <td>8</td>\n",
       "      <td>1</td>\n",
       "    </tr>\n",
       "    <tr>\n",
       "      <th>1</th>\n",
       "      <td>1998-01-01</td>\n",
       "      <td>QuakeWorld</td>\n",
       "      <td>15000.0</td>\n",
       "      <td>8</td>\n",
       "      <td>1</td>\n",
       "    </tr>\n",
       "    <tr>\n",
       "      <th>2</th>\n",
       "      <td>1998-05-01</td>\n",
       "      <td>Quake II</td>\n",
       "      <td>15000.0</td>\n",
       "      <td>4</td>\n",
       "      <td>1</td>\n",
       "    </tr>\n",
       "    <tr>\n",
       "      <th>3</th>\n",
       "      <td>1998-05-01</td>\n",
       "      <td>Total Annihilation</td>\n",
       "      <td>15000.0</td>\n",
       "      <td>2</td>\n",
       "      <td>1</td>\n",
       "    </tr>\n",
       "    <tr>\n",
       "      <th>4</th>\n",
       "      <td>1998-05-01</td>\n",
       "      <td>QuakeWorld</td>\n",
       "      <td>300.0</td>\n",
       "      <td>3</td>\n",
       "      <td>1</td>\n",
       "    </tr>\n",
       "  </tbody>\n",
       "</table>\n",
       "</div>"
      ],
      "text/plain": [
       "         Date                          Game  Earnings  Players  Tournaments\n",
       "0  1998-01-01  Command & Conquer: Red Alert   15000.0        8            1\n",
       "1  1998-01-01                    QuakeWorld   15000.0        8            1\n",
       "2  1998-05-01                      Quake II   15000.0        4            1\n",
       "3  1998-05-01            Total Annihilation   15000.0        2            1\n",
       "4  1998-05-01                    QuakeWorld     300.0        3            1"
      ]
     },
     "metadata": {},
     "output_type": "display_data"
    },
    {
     "name": "stdout",
     "output_type": "stream",
     "text": [
      "<class 'pandas.core.frame.DataFrame'>\n",
      "RangeIndex: 21000 entries, 0 to 20999\n",
      "Data columns (total 12 columns):\n",
      " #   Column            Non-Null Count  Dtype  \n",
      "---  ------            --------------  -----  \n",
      " 0   Rank              21000 non-null  int64  \n",
      " 1   Game              20999 non-null  object \n",
      " 2   Month             21000 non-null  int64  \n",
      " 3   Year              21000 non-null  int64  \n",
      " 4   Hours_watched     21000 non-null  int64  \n",
      " 5   Hours_streamed    21000 non-null  int64  \n",
      " 6   Peak_viewers      21000 non-null  int64  \n",
      " 7   Peak_channels     21000 non-null  int64  \n",
      " 8   Streamers         21000 non-null  int64  \n",
      " 9   Avg_viewers       21000 non-null  int64  \n",
      " 10  Avg_channels      21000 non-null  int64  \n",
      " 11  Avg_viewer_ratio  21000 non-null  float64\n",
      "dtypes: float64(1), int64(10), object(1)\n",
      "memory usage: 1.9+ MB\n",
      "<class 'pandas.core.frame.DataFrame'>\n",
      "RangeIndex: 10239 entries, 0 to 10238\n",
      "Data columns (total 5 columns):\n",
      " #   Column       Non-Null Count  Dtype  \n",
      "---  ------       --------------  -----  \n",
      " 0   Date         10239 non-null  object \n",
      " 1   Game         10239 non-null  object \n",
      " 2   Earnings     10239 non-null  float64\n",
      " 3   Players      10239 non-null  int64  \n",
      " 4   Tournaments  10239 non-null  int64  \n",
      "dtypes: float64(1), int64(2), object(2)\n",
      "memory usage: 400.1+ KB\n"
     ]
    }
   ],
   "source": [
    "import pandas as pd\n",
    "\n",
    "twitch_path   = \"data/raw/top_twitch/Twitch_game_data.csv\"\n",
    "earnings_path = \"data/raw/esports_earnings/HistoricalEsportData.csv\"\n",
    "\n",
    "def safe_read_csv(path):\n",
    "    # 1) intenta utf-8 con separador auto\n",
    "    try:\n",
    "        return pd.read_csv(path)\n",
    "    except UnicodeDecodeError:\n",
    "        pass\n",
    "    # 2) intenta cp1252/latin-1 (típico Windows)\n",
    "    for enc in (\"cp1252\", \"latin1\", \"utf-16\"):\n",
    "        try:\n",
    "            return pd.read_csv(path, encoding=enc)\n",
    "        except UnicodeDecodeError:\n",
    "            continue\n",
    "        except Exception:\n",
    "            continue\n",
    "    # 3) último recurso: encoding flexible y separador ';'\n",
    "    return pd.read_csv(path, encoding=\"cp1252\", sep=\";\", engine=\"python\", on_bad_lines=\"skip\", errors=\"ignore\")\n",
    "\n",
    "twitch_df   = safe_read_csv(twitch_path)\n",
    "earnings_df = safe_read_csv(earnings_path)\n",
    "\n",
    "display(twitch_df.head())\n",
    "display(earnings_df.head())\n",
    "twitch_df.info()\n",
    "earnings_df.info()\n",
    "\n"
   ]
  },
  {
   "cell_type": "code",
   "execution_count": 3,
   "id": "88bd8f3c",
   "metadata": {},
   "outputs": [],
   "source": [
    "t = twitch_df.rename(columns={\n",
    "    \"Game\":\"juego\",\"Year\":\"año\",\"Month\":\"mes\",\n",
    "    \"Avg_viewers\":\"media_viewers\",\"Peak_viewers\":\"pico_viewers\",\"Hours_watched\":\"horas_vistas\"\n",
    "})[[\"juego\",\"año\",\"mes\",\"media_viewers\",\"pico_viewers\",\"horas_vistas\"]]\n"
   ]
  },
  {
   "cell_type": "code",
   "execution_count": 4,
   "id": "f4b52582",
   "metadata": {},
   "outputs": [],
   "source": [
    "def nrm(s):\n",
    "    m={\"cs:go\":\"csgo\",\"counter-strike: global offensive\":\"csgo\",\"counter-strike 2\":\"cs2\",\n",
    "       \"league of legends\":\"lol\",\"dota 2\":\"dota2\",\"pubg: battlegrounds\":\"pubg\",\n",
    "       \"overwatch 2\":\"overwatch2\",\"ea sports fc 24\":\"ea fc\"}\n",
    "    s=str(s).strip().lower()\n",
    "    return m.get(s,s)\n",
    "t[\"juego_norm\"]=t[\"juego\"].map(nrm)\n"
   ]
  },
  {
   "cell_type": "code",
   "execution_count": 5,
   "id": "8d4e8e8b",
   "metadata": {},
   "outputs": [
    {
     "data": {
      "application/vnd.microsoft.datawrangler.viewer.v0+json": {
       "columns": [
        {
         "name": "index",
         "rawType": "int64",
         "type": "integer"
        },
        {
         "name": "Date",
         "rawType": "object",
         "type": "string"
        },
        {
         "name": "Game",
         "rawType": "object",
         "type": "string"
        },
        {
         "name": "Earnings",
         "rawType": "float64",
         "type": "float"
        },
        {
         "name": "Players",
         "rawType": "int64",
         "type": "integer"
        },
        {
         "name": "Tournaments",
         "rawType": "int64",
         "type": "integer"
        }
       ],
       "ref": "49fbdbda-5dfe-4617-a621-814592206a94",
       "rows": [
        [
         "0",
         "1998-01-01",
         "Command & Conquer: Red Alert",
         "15000.0",
         "8",
         "1"
        ],
        [
         "1",
         "1998-01-01",
         "QuakeWorld",
         "15000.0",
         "8",
         "1"
        ],
        [
         "2",
         "1998-05-01",
         "Quake II",
         "15000.0",
         "4",
         "1"
        ],
        [
         "3",
         "1998-05-01",
         "Total Annihilation",
         "15000.0",
         "2",
         "1"
        ],
        [
         "4",
         "1998-05-01",
         "QuakeWorld",
         "300.0",
         "3",
         "1"
        ]
       ],
       "shape": {
        "columns": 5,
        "rows": 5
       }
      },
      "text/html": [
       "<div>\n",
       "<style scoped>\n",
       "    .dataframe tbody tr th:only-of-type {\n",
       "        vertical-align: middle;\n",
       "    }\n",
       "\n",
       "    .dataframe tbody tr th {\n",
       "        vertical-align: top;\n",
       "    }\n",
       "\n",
       "    .dataframe thead th {\n",
       "        text-align: right;\n",
       "    }\n",
       "</style>\n",
       "<table border=\"1\" class=\"dataframe\">\n",
       "  <thead>\n",
       "    <tr style=\"text-align: right;\">\n",
       "      <th></th>\n",
       "      <th>Date</th>\n",
       "      <th>Game</th>\n",
       "      <th>Earnings</th>\n",
       "      <th>Players</th>\n",
       "      <th>Tournaments</th>\n",
       "    </tr>\n",
       "  </thead>\n",
       "  <tbody>\n",
       "    <tr>\n",
       "      <th>0</th>\n",
       "      <td>1998-01-01</td>\n",
       "      <td>Command &amp; Conquer: Red Alert</td>\n",
       "      <td>15000.0</td>\n",
       "      <td>8</td>\n",
       "      <td>1</td>\n",
       "    </tr>\n",
       "    <tr>\n",
       "      <th>1</th>\n",
       "      <td>1998-01-01</td>\n",
       "      <td>QuakeWorld</td>\n",
       "      <td>15000.0</td>\n",
       "      <td>8</td>\n",
       "      <td>1</td>\n",
       "    </tr>\n",
       "    <tr>\n",
       "      <th>2</th>\n",
       "      <td>1998-05-01</td>\n",
       "      <td>Quake II</td>\n",
       "      <td>15000.0</td>\n",
       "      <td>4</td>\n",
       "      <td>1</td>\n",
       "    </tr>\n",
       "    <tr>\n",
       "      <th>3</th>\n",
       "      <td>1998-05-01</td>\n",
       "      <td>Total Annihilation</td>\n",
       "      <td>15000.0</td>\n",
       "      <td>2</td>\n",
       "      <td>1</td>\n",
       "    </tr>\n",
       "    <tr>\n",
       "      <th>4</th>\n",
       "      <td>1998-05-01</td>\n",
       "      <td>QuakeWorld</td>\n",
       "      <td>300.0</td>\n",
       "      <td>3</td>\n",
       "      <td>1</td>\n",
       "    </tr>\n",
       "  </tbody>\n",
       "</table>\n",
       "</div>"
      ],
      "text/plain": [
       "         Date                          Game  Earnings  Players  Tournaments\n",
       "0  1998-01-01  Command & Conquer: Red Alert   15000.0        8            1\n",
       "1  1998-01-01                    QuakeWorld   15000.0        8            1\n",
       "2  1998-05-01                      Quake II   15000.0        4            1\n",
       "3  1998-05-01            Total Annihilation   15000.0        2            1\n",
       "4  1998-05-01                    QuakeWorld     300.0        3            1"
      ]
     },
     "execution_count": 5,
     "metadata": {},
     "output_type": "execute_result"
    }
   ],
   "source": [
    "import pandas as pd\n",
    "\n",
    "# ruta correcta del dataset\n",
    "hist_path = \"data/raw/esports_earnings/HistoricalEsportData.csv\"\n",
    "\n",
    "# carga segura (prueba separador y encoding si fuera necesario)\n",
    "hist_df = pd.read_csv(hist_path, encoding=\"cp1252\", sep=\",\")\n",
    "\n",
    "# vistazo rápido opcional\n",
    "hist_df.head()\n",
    "\n"
   ]
  },
  {
   "cell_type": "code",
   "execution_count": 6,
   "id": "8ae8519b",
   "metadata": {},
   "outputs": [],
   "source": [
    "e = hist_df.rename(columns={\"Game\":\"juego\",\"Earnings\":\"premios_usd\",\"Tournaments\":\"torneos\"})[\n",
    "    [\"juego\",\"premios_usd\",\"torneos\",\"Date\"]\n",
    "]\n",
    "e[\"año\"] = pd.to_datetime(e[\"Date\"], errors=\"coerce\").dt.year\n",
    "e[\"juego_norm\"] = e[\"juego\"].map(nrm)\n",
    "e_ag = e.groupby([\"juego_norm\",\"año\"], dropna=False)[[\"premios_usd\",\"torneos\"]].sum().reset_index()\n"
   ]
  },
  {
   "cell_type": "code",
   "execution_count": 8,
   "id": "efa4f1d6",
   "metadata": {},
   "outputs": [
    {
     "data": {
      "application/vnd.microsoft.datawrangler.viewer.v0+json": {
       "columns": [
        {
         "name": "index",
         "rawType": "int64",
         "type": "integer"
        },
        {
         "name": "juego_norm",
         "rawType": "object",
         "type": "string"
        },
        {
         "name": "año",
         "rawType": "int64",
         "type": "integer"
        },
        {
         "name": "media_viewers",
         "rawType": "float64",
         "type": "float"
        },
        {
         "name": "pico_viewers",
         "rawType": "int64",
         "type": "integer"
        },
        {
         "name": "horas_vistas",
         "rawType": "int64",
         "type": "integer"
        }
       ],
       "ref": "1416c440-9cc7-4e42-b7e1-f26a7fdd168b",
       "rows": [
        [
         "0",
         ".hack//g.u. last recode",
         "2017",
         "202.0",
         "1222",
         "145350"
        ],
        [
         "1",
         "20 minutes till dawn",
         "2022",
         "1267.0",
         "29743",
         "911356"
        ],
        [
         "2",
         "2xko",
         "2024",
         "2876.0",
         "60961",
         "2137305"
        ],
        [
         "3",
         "60 parsecs!",
         "2018",
         "736.0",
         "31960",
         "529688"
        ],
        [
         "4",
         "60 seconds!",
         "2016",
         "517.6666666666666",
         "56904",
         "1151013"
        ]
       ],
       "shape": {
        "columns": 5,
        "rows": 5
       }
      },
      "text/html": [
       "<div>\n",
       "<style scoped>\n",
       "    .dataframe tbody tr th:only-of-type {\n",
       "        vertical-align: middle;\n",
       "    }\n",
       "\n",
       "    .dataframe tbody tr th {\n",
       "        vertical-align: top;\n",
       "    }\n",
       "\n",
       "    .dataframe thead th {\n",
       "        text-align: right;\n",
       "    }\n",
       "</style>\n",
       "<table border=\"1\" class=\"dataframe\">\n",
       "  <thead>\n",
       "    <tr style=\"text-align: right;\">\n",
       "      <th></th>\n",
       "      <th>juego_norm</th>\n",
       "      <th>año</th>\n",
       "      <th>media_viewers</th>\n",
       "      <th>pico_viewers</th>\n",
       "      <th>horas_vistas</th>\n",
       "    </tr>\n",
       "  </thead>\n",
       "  <tbody>\n",
       "    <tr>\n",
       "      <th>0</th>\n",
       "      <td>.hack//g.u. last recode</td>\n",
       "      <td>2017</td>\n",
       "      <td>202.000000</td>\n",
       "      <td>1222</td>\n",
       "      <td>145350</td>\n",
       "    </tr>\n",
       "    <tr>\n",
       "      <th>1</th>\n",
       "      <td>20 minutes till dawn</td>\n",
       "      <td>2022</td>\n",
       "      <td>1267.000000</td>\n",
       "      <td>29743</td>\n",
       "      <td>911356</td>\n",
       "    </tr>\n",
       "    <tr>\n",
       "      <th>2</th>\n",
       "      <td>2xko</td>\n",
       "      <td>2024</td>\n",
       "      <td>2876.000000</td>\n",
       "      <td>60961</td>\n",
       "      <td>2137305</td>\n",
       "    </tr>\n",
       "    <tr>\n",
       "      <th>3</th>\n",
       "      <td>60 parsecs!</td>\n",
       "      <td>2018</td>\n",
       "      <td>736.000000</td>\n",
       "      <td>31960</td>\n",
       "      <td>529688</td>\n",
       "    </tr>\n",
       "    <tr>\n",
       "      <th>4</th>\n",
       "      <td>60 seconds!</td>\n",
       "      <td>2016</td>\n",
       "      <td>517.666667</td>\n",
       "      <td>56904</td>\n",
       "      <td>1151013</td>\n",
       "    </tr>\n",
       "  </tbody>\n",
       "</table>\n",
       "</div>"
      ],
      "text/plain": [
       "                juego_norm   año  media_viewers  pico_viewers  horas_vistas\n",
       "0  .hack//g.u. last recode  2017     202.000000          1222        145350\n",
       "1     20 minutes till dawn  2022    1267.000000         29743        911356\n",
       "2                     2xko  2024    2876.000000         60961       2137305\n",
       "3              60 parsecs!  2018     736.000000         31960        529688\n",
       "4              60 seconds!  2016     517.666667         56904       1151013"
      ]
     },
     "execution_count": 8,
     "metadata": {},
     "output_type": "execute_result"
    }
   ],
   "source": [
    "t_ag = (t.groupby([\"juego_norm\",\"año\"], dropna=False)\n",
    "          .agg(media_viewers=(\"media_viewers\",\"mean\"),\n",
    "               pico_viewers=(\"pico_viewers\",\"max\"),\n",
    "               horas_vistas=(\"horas_vistas\",\"sum\"))\n",
    "          .reset_index())\n",
    "\n",
    "t_ag.head()\n"
   ]
  },
  {
   "cell_type": "code",
   "execution_count": 9,
   "id": "45e9a75b",
   "metadata": {},
   "outputs": [
    {
     "data": {
      "application/vnd.microsoft.datawrangler.viewer.v0+json": {
       "columns": [
        {
         "name": "index",
         "rawType": "int64",
         "type": "integer"
        },
        {
         "name": "juego_norm",
         "rawType": "object",
         "type": "string"
        },
        {
         "name": "año",
         "rawType": "int64",
         "type": "integer"
        },
        {
         "name": "media_viewers",
         "rawType": "float64",
         "type": "float"
        },
        {
         "name": "pico_viewers",
         "rawType": "int64",
         "type": "integer"
        },
        {
         "name": "horas_vistas",
         "rawType": "int64",
         "type": "integer"
        },
        {
         "name": "premios_usd",
         "rawType": "float64",
         "type": "float"
        },
        {
         "name": "torneos",
         "rawType": "float64",
         "type": "float"
        }
       ],
       "ref": "039c2041-f32c-4d28-8fea-72ddec8d7fb1",
       "rows": [
        [
         "0",
         ".hack//g.u. last recode",
         "2017",
         "202.0",
         "1222",
         "145350",
         null,
         null
        ],
        [
         "1",
         "20 minutes till dawn",
         "2022",
         "1267.0",
         "29743",
         "911356",
         null,
         null
        ],
        [
         "2",
         "2xko",
         "2024",
         "2876.0",
         "60961",
         "2137305",
         null,
         null
        ],
        [
         "3",
         "60 parsecs!",
         "2018",
         "736.0",
         "31960",
         "529688",
         null,
         null
        ],
        [
         "4",
         "60 seconds!",
         "2016",
         "517.6666666666666",
         "56904",
         "1151013",
         null,
         null
        ]
       ],
       "shape": {
        "columns": 7,
        "rows": 5
       }
      },
      "text/html": [
       "<div>\n",
       "<style scoped>\n",
       "    .dataframe tbody tr th:only-of-type {\n",
       "        vertical-align: middle;\n",
       "    }\n",
       "\n",
       "    .dataframe tbody tr th {\n",
       "        vertical-align: top;\n",
       "    }\n",
       "\n",
       "    .dataframe thead th {\n",
       "        text-align: right;\n",
       "    }\n",
       "</style>\n",
       "<table border=\"1\" class=\"dataframe\">\n",
       "  <thead>\n",
       "    <tr style=\"text-align: right;\">\n",
       "      <th></th>\n",
       "      <th>juego_norm</th>\n",
       "      <th>año</th>\n",
       "      <th>media_viewers</th>\n",
       "      <th>pico_viewers</th>\n",
       "      <th>horas_vistas</th>\n",
       "      <th>premios_usd</th>\n",
       "      <th>torneos</th>\n",
       "    </tr>\n",
       "  </thead>\n",
       "  <tbody>\n",
       "    <tr>\n",
       "      <th>0</th>\n",
       "      <td>.hack//g.u. last recode</td>\n",
       "      <td>2017</td>\n",
       "      <td>202.000000</td>\n",
       "      <td>1222</td>\n",
       "      <td>145350</td>\n",
       "      <td>NaN</td>\n",
       "      <td>NaN</td>\n",
       "    </tr>\n",
       "    <tr>\n",
       "      <th>1</th>\n",
       "      <td>20 minutes till dawn</td>\n",
       "      <td>2022</td>\n",
       "      <td>1267.000000</td>\n",
       "      <td>29743</td>\n",
       "      <td>911356</td>\n",
       "      <td>NaN</td>\n",
       "      <td>NaN</td>\n",
       "    </tr>\n",
       "    <tr>\n",
       "      <th>2</th>\n",
       "      <td>2xko</td>\n",
       "      <td>2024</td>\n",
       "      <td>2876.000000</td>\n",
       "      <td>60961</td>\n",
       "      <td>2137305</td>\n",
       "      <td>NaN</td>\n",
       "      <td>NaN</td>\n",
       "    </tr>\n",
       "    <tr>\n",
       "      <th>3</th>\n",
       "      <td>60 parsecs!</td>\n",
       "      <td>2018</td>\n",
       "      <td>736.000000</td>\n",
       "      <td>31960</td>\n",
       "      <td>529688</td>\n",
       "      <td>NaN</td>\n",
       "      <td>NaN</td>\n",
       "    </tr>\n",
       "    <tr>\n",
       "      <th>4</th>\n",
       "      <td>60 seconds!</td>\n",
       "      <td>2016</td>\n",
       "      <td>517.666667</td>\n",
       "      <td>56904</td>\n",
       "      <td>1151013</td>\n",
       "      <td>NaN</td>\n",
       "      <td>NaN</td>\n",
       "    </tr>\n",
       "  </tbody>\n",
       "</table>\n",
       "</div>"
      ],
      "text/plain": [
       "                juego_norm   año  media_viewers  pico_viewers  horas_vistas  \\\n",
       "0  .hack//g.u. last recode  2017     202.000000          1222        145350   \n",
       "1     20 minutes till dawn  2022    1267.000000         29743        911356   \n",
       "2                     2xko  2024    2876.000000         60961       2137305   \n",
       "3              60 parsecs!  2018     736.000000         31960        529688   \n",
       "4              60 seconds!  2016     517.666667         56904       1151013   \n",
       "\n",
       "   premios_usd  torneos  \n",
       "0          NaN      NaN  \n",
       "1          NaN      NaN  \n",
       "2          NaN      NaN  \n",
       "3          NaN      NaN  \n",
       "4          NaN      NaN  "
      ]
     },
     "execution_count": 9,
     "metadata": {},
     "output_type": "execute_result"
    }
   ],
   "source": [
    "df_merge = t_ag.merge(e_ag, on=[\"juego_norm\",\"año\"], how=\"left\")\n",
    "df_merge.head()"
   ]
  },
  {
   "cell_type": "code",
   "execution_count": 10,
   "id": "0f085ff3",
   "metadata": {},
   "outputs": [
    {
     "data": {
      "application/vnd.microsoft.datawrangler.viewer.v0+json": {
       "columns": [
        {
         "name": "index",
         "rawType": "int64",
         "type": "integer"
        },
        {
         "name": "juego",
         "rawType": "object",
         "type": "string"
        },
        {
         "name": "genero",
         "rawType": "object",
         "type": "string"
        },
        {
         "name": "premios_totales_usd",
         "rawType": "float64",
         "type": "float"
        },
        {
         "name": "jugadores_totales",
         "rawType": "int64",
         "type": "integer"
        },
        {
         "name": "torneos_totales",
         "rawType": "int64",
         "type": "integer"
        },
        {
         "name": "juego_norm",
         "rawType": "object",
         "type": "string"
        }
       ],
       "ref": "bd6d456e-f277-4f2e-a0d7-7e0f389b01fd",
       "rows": [
        [
         "0",
         "Age of Empires",
         "Strategy",
         "736284.75",
         "624",
         "341",
         "age of empires"
        ],
        [
         "1",
         "Age of Empires II",
         "Strategy",
         "3898508.73",
         "2256",
         "1939",
         "age of empires ii"
        ],
        [
         "2",
         "Age of Empires III",
         "Strategy",
         "122256.72",
         "172",
         "179",
         "age of empires iii"
        ],
        [
         "3",
         "Age of Empires IV",
         "Strategy",
         "1190813.44",
         "643",
         "423",
         "age of empires iv"
        ],
        [
         "4",
         "Age of Empires Online",
         "Strategy",
         "11462.98",
         "52",
         "68",
         "age of empires online"
        ]
       ],
       "shape": {
        "columns": 6,
        "rows": 5
       }
      },
      "text/html": [
       "<div>\n",
       "<style scoped>\n",
       "    .dataframe tbody tr th:only-of-type {\n",
       "        vertical-align: middle;\n",
       "    }\n",
       "\n",
       "    .dataframe tbody tr th {\n",
       "        vertical-align: top;\n",
       "    }\n",
       "\n",
       "    .dataframe thead th {\n",
       "        text-align: right;\n",
       "    }\n",
       "</style>\n",
       "<table border=\"1\" class=\"dataframe\">\n",
       "  <thead>\n",
       "    <tr style=\"text-align: right;\">\n",
       "      <th></th>\n",
       "      <th>juego</th>\n",
       "      <th>genero</th>\n",
       "      <th>premios_totales_usd</th>\n",
       "      <th>jugadores_totales</th>\n",
       "      <th>torneos_totales</th>\n",
       "      <th>juego_norm</th>\n",
       "    </tr>\n",
       "  </thead>\n",
       "  <tbody>\n",
       "    <tr>\n",
       "      <th>0</th>\n",
       "      <td>Age of Empires</td>\n",
       "      <td>Strategy</td>\n",
       "      <td>736284.75</td>\n",
       "      <td>624</td>\n",
       "      <td>341</td>\n",
       "      <td>age of empires</td>\n",
       "    </tr>\n",
       "    <tr>\n",
       "      <th>1</th>\n",
       "      <td>Age of Empires II</td>\n",
       "      <td>Strategy</td>\n",
       "      <td>3898508.73</td>\n",
       "      <td>2256</td>\n",
       "      <td>1939</td>\n",
       "      <td>age of empires ii</td>\n",
       "    </tr>\n",
       "    <tr>\n",
       "      <th>2</th>\n",
       "      <td>Age of Empires III</td>\n",
       "      <td>Strategy</td>\n",
       "      <td>122256.72</td>\n",
       "      <td>172</td>\n",
       "      <td>179</td>\n",
       "      <td>age of empires iii</td>\n",
       "    </tr>\n",
       "    <tr>\n",
       "      <th>3</th>\n",
       "      <td>Age of Empires IV</td>\n",
       "      <td>Strategy</td>\n",
       "      <td>1190813.44</td>\n",
       "      <td>643</td>\n",
       "      <td>423</td>\n",
       "      <td>age of empires iv</td>\n",
       "    </tr>\n",
       "    <tr>\n",
       "      <th>4</th>\n",
       "      <td>Age of Empires Online</td>\n",
       "      <td>Strategy</td>\n",
       "      <td>11462.98</td>\n",
       "      <td>52</td>\n",
       "      <td>68</td>\n",
       "      <td>age of empires online</td>\n",
       "    </tr>\n",
       "  </tbody>\n",
       "</table>\n",
       "</div>"
      ],
      "text/plain": [
       "                   juego    genero  premios_totales_usd  jugadores_totales  \\\n",
       "0         Age of Empires  Strategy            736284.75                624   \n",
       "1      Age of Empires II  Strategy           3898508.73               2256   \n",
       "2     Age of Empires III  Strategy            122256.72                172   \n",
       "3      Age of Empires IV  Strategy           1190813.44                643   \n",
       "4  Age of Empires Online  Strategy             11462.98                 52   \n",
       "\n",
       "   torneos_totales             juego_norm  \n",
       "0              341         age of empires  \n",
       "1             1939      age of empires ii  \n",
       "2              179     age of empires iii  \n",
       "3              423      age of empires iv  \n",
       "4               68  age of empires online  "
      ]
     },
     "execution_count": 10,
     "metadata": {},
     "output_type": "execute_result"
    }
   ],
   "source": [
    "g_path = \"data/raw/esports_earnings/GeneralEsportData.csv\"\n",
    "g = pd.read_csv(g_path, encoding=\"cp1252\")\n",
    "\n",
    "g = g.rename(columns={\n",
    "    \"Game\":\"juego\",\n",
    "    \"Genre\":\"genero\",\n",
    "    \"TotalEarnings\":\"premios_totales_usd\",\n",
    "    \"TotalPlayers\":\"jugadores_totales\",\n",
    "    \"TotalTournaments\":\"torneos_totales\"\n",
    "})[[\"juego\",\"genero\",\"premios_totales_usd\",\"jugadores_totales\",\"torneos_totales\"]]\n",
    "\n",
    "g[\"juego_norm\"] = g[\"juego\"].map(nrm)\n",
    "g.head()\n"
   ]
  },
  {
   "cell_type": "code",
   "execution_count": 11,
   "id": "618b7b20",
   "metadata": {},
   "outputs": [
    {
     "data": {
      "application/vnd.microsoft.datawrangler.viewer.v0+json": {
       "columns": [
        {
         "name": "index",
         "rawType": "int64",
         "type": "integer"
        },
        {
         "name": "juego_norm",
         "rawType": "object",
         "type": "string"
        },
        {
         "name": "año",
         "rawType": "int64",
         "type": "integer"
        },
        {
         "name": "media_viewers",
         "rawType": "float64",
         "type": "float"
        },
        {
         "name": "pico_viewers",
         "rawType": "int64",
         "type": "integer"
        },
        {
         "name": "horas_vistas",
         "rawType": "int64",
         "type": "integer"
        },
        {
         "name": "premios_usd",
         "rawType": "float64",
         "type": "float"
        },
        {
         "name": "torneos",
         "rawType": "float64",
         "type": "float"
        },
        {
         "name": "genero",
         "rawType": "object",
         "type": "unknown"
        },
        {
         "name": "premios_totales_usd",
         "rawType": "float64",
         "type": "float"
        },
        {
         "name": "jugadores_totales",
         "rawType": "float64",
         "type": "float"
        },
        {
         "name": "torneos_totales",
         "rawType": "float64",
         "type": "float"
        }
       ],
       "ref": "2988aa9f-3d42-49b9-8aa3-ef6062ec1eee",
       "rows": [
        [
         "0",
         ".hack//g.u. last recode",
         "2017",
         "202.0",
         "1222",
         "145350",
         null,
         null,
         null,
         null,
         null,
         null
        ],
        [
         "1",
         "20 minutes till dawn",
         "2022",
         "1267.0",
         "29743",
         "911356",
         null,
         null,
         null,
         null,
         null,
         null
        ],
        [
         "2",
         "2xko",
         "2024",
         "2876.0",
         "60961",
         "2137305",
         null,
         null,
         null,
         null,
         null,
         null
        ],
        [
         "3",
         "60 parsecs!",
         "2018",
         "736.0",
         "31960",
         "529688",
         null,
         null,
         null,
         null,
         null,
         null
        ],
        [
         "4",
         "60 seconds!",
         "2016",
         "517.6666666666666",
         "56904",
         "1151013",
         null,
         null,
         null,
         null,
         null,
         null
        ]
       ],
       "shape": {
        "columns": 11,
        "rows": 5
       }
      },
      "text/html": [
       "<div>\n",
       "<style scoped>\n",
       "    .dataframe tbody tr th:only-of-type {\n",
       "        vertical-align: middle;\n",
       "    }\n",
       "\n",
       "    .dataframe tbody tr th {\n",
       "        vertical-align: top;\n",
       "    }\n",
       "\n",
       "    .dataframe thead th {\n",
       "        text-align: right;\n",
       "    }\n",
       "</style>\n",
       "<table border=\"1\" class=\"dataframe\">\n",
       "  <thead>\n",
       "    <tr style=\"text-align: right;\">\n",
       "      <th></th>\n",
       "      <th>juego_norm</th>\n",
       "      <th>año</th>\n",
       "      <th>media_viewers</th>\n",
       "      <th>pico_viewers</th>\n",
       "      <th>horas_vistas</th>\n",
       "      <th>premios_usd</th>\n",
       "      <th>torneos</th>\n",
       "      <th>genero</th>\n",
       "      <th>premios_totales_usd</th>\n",
       "      <th>jugadores_totales</th>\n",
       "      <th>torneos_totales</th>\n",
       "    </tr>\n",
       "  </thead>\n",
       "  <tbody>\n",
       "    <tr>\n",
       "      <th>0</th>\n",
       "      <td>.hack//g.u. last recode</td>\n",
       "      <td>2017</td>\n",
       "      <td>202.000000</td>\n",
       "      <td>1222</td>\n",
       "      <td>145350</td>\n",
       "      <td>NaN</td>\n",
       "      <td>NaN</td>\n",
       "      <td>NaN</td>\n",
       "      <td>NaN</td>\n",
       "      <td>NaN</td>\n",
       "      <td>NaN</td>\n",
       "    </tr>\n",
       "    <tr>\n",
       "      <th>1</th>\n",
       "      <td>20 minutes till dawn</td>\n",
       "      <td>2022</td>\n",
       "      <td>1267.000000</td>\n",
       "      <td>29743</td>\n",
       "      <td>911356</td>\n",
       "      <td>NaN</td>\n",
       "      <td>NaN</td>\n",
       "      <td>NaN</td>\n",
       "      <td>NaN</td>\n",
       "      <td>NaN</td>\n",
       "      <td>NaN</td>\n",
       "    </tr>\n",
       "    <tr>\n",
       "      <th>2</th>\n",
       "      <td>2xko</td>\n",
       "      <td>2024</td>\n",
       "      <td>2876.000000</td>\n",
       "      <td>60961</td>\n",
       "      <td>2137305</td>\n",
       "      <td>NaN</td>\n",
       "      <td>NaN</td>\n",
       "      <td>NaN</td>\n",
       "      <td>NaN</td>\n",
       "      <td>NaN</td>\n",
       "      <td>NaN</td>\n",
       "    </tr>\n",
       "    <tr>\n",
       "      <th>3</th>\n",
       "      <td>60 parsecs!</td>\n",
       "      <td>2018</td>\n",
       "      <td>736.000000</td>\n",
       "      <td>31960</td>\n",
       "      <td>529688</td>\n",
       "      <td>NaN</td>\n",
       "      <td>NaN</td>\n",
       "      <td>NaN</td>\n",
       "      <td>NaN</td>\n",
       "      <td>NaN</td>\n",
       "      <td>NaN</td>\n",
       "    </tr>\n",
       "    <tr>\n",
       "      <th>4</th>\n",
       "      <td>60 seconds!</td>\n",
       "      <td>2016</td>\n",
       "      <td>517.666667</td>\n",
       "      <td>56904</td>\n",
       "      <td>1151013</td>\n",
       "      <td>NaN</td>\n",
       "      <td>NaN</td>\n",
       "      <td>NaN</td>\n",
       "      <td>NaN</td>\n",
       "      <td>NaN</td>\n",
       "      <td>NaN</td>\n",
       "    </tr>\n",
       "  </tbody>\n",
       "</table>\n",
       "</div>"
      ],
      "text/plain": [
       "                juego_norm   año  media_viewers  pico_viewers  horas_vistas  \\\n",
       "0  .hack//g.u. last recode  2017     202.000000          1222        145350   \n",
       "1     20 minutes till dawn  2022    1267.000000         29743        911356   \n",
       "2                     2xko  2024    2876.000000         60961       2137305   \n",
       "3              60 parsecs!  2018     736.000000         31960        529688   \n",
       "4              60 seconds!  2016     517.666667         56904       1151013   \n",
       "\n",
       "   premios_usd  torneos genero  premios_totales_usd  jugadores_totales  \\\n",
       "0          NaN      NaN    NaN                  NaN                NaN   \n",
       "1          NaN      NaN    NaN                  NaN                NaN   \n",
       "2          NaN      NaN    NaN                  NaN                NaN   \n",
       "3          NaN      NaN    NaN                  NaN                NaN   \n",
       "4          NaN      NaN    NaN                  NaN                NaN   \n",
       "\n",
       "   torneos_totales  \n",
       "0              NaN  \n",
       "1              NaN  \n",
       "2              NaN  \n",
       "3              NaN  \n",
       "4              NaN  "
      ]
     },
     "execution_count": 11,
     "metadata": {},
     "output_type": "execute_result"
    }
   ],
   "source": [
    "df_final = df_merge.merge(\n",
    "    g[[\"juego_norm\",\"genero\",\"premios_totales_usd\",\"jugadores_totales\",\"torneos_totales\"]],\n",
    "    on=\"juego_norm\", how=\"left\"\n",
    ")\n",
    "df_final.head()\n"
   ]
  },
  {
   "cell_type": "code",
   "execution_count": 12,
   "id": "3da2f6d7",
   "metadata": {},
   "outputs": [
    {
     "name": "stdout",
     "output_type": "stream",
     "text": [
      "<class 'pandas.core.frame.DataFrame'>\n",
      "RangeIndex: 4700 entries, 0 to 4699\n",
      "Data columns (total 11 columns):\n",
      " #   Column               Non-Null Count  Dtype  \n",
      "---  ------               --------------  -----  \n",
      " 0   juego_norm           4700 non-null   object \n",
      " 1   año                  4700 non-null   int64  \n",
      " 2   media_viewers        4700 non-null   float64\n",
      " 3   pico_viewers         4700 non-null   int64  \n",
      " 4   horas_vistas         4700 non-null   int64  \n",
      " 5   premios_usd          521 non-null    float64\n",
      " 6   torneos              521 non-null    float64\n",
      " 7   genero               769 non-null    object \n",
      " 8   premios_totales_usd  769 non-null    float64\n",
      " 9   jugadores_totales    769 non-null    float64\n",
      " 10  torneos_totales      769 non-null    float64\n",
      "dtypes: float64(6), int64(3), object(2)\n",
      "memory usage: 404.0+ KB\n"
     ]
    },
    {
     "data": {
      "application/vnd.microsoft.datawrangler.viewer.v0+json": {
       "columns": [
        {
         "name": "index",
         "rawType": "object",
         "type": "string"
        },
        {
         "name": "0",
         "rawType": "int64",
         "type": "integer"
        }
       ],
       "ref": "d96c8043-9751-4535-9587-2c2721b9fd28",
       "rows": [
        [
         "torneos",
         "4179"
        ],
        [
         "premios_usd",
         "4179"
        ],
        [
         "premios_totales_usd",
         "3931"
        ],
        [
         "jugadores_totales",
         "3931"
        ],
        [
         "torneos_totales",
         "3931"
        ],
        [
         "genero",
         "3931"
        ],
        [
         "juego_norm",
         "0"
        ],
        [
         "media_viewers",
         "0"
        ],
        [
         "año",
         "0"
        ],
        [
         "pico_viewers",
         "0"
        ]
       ],
       "shape": {
        "columns": 1,
        "rows": 10
       }
      },
      "text/plain": [
       "torneos                4179\n",
       "premios_usd            4179\n",
       "premios_totales_usd    3931\n",
       "jugadores_totales      3931\n",
       "torneos_totales        3931\n",
       "genero                 3931\n",
       "juego_norm                0\n",
       "media_viewers             0\n",
       "año                       0\n",
       "pico_viewers              0\n",
       "dtype: int64"
      ]
     },
     "execution_count": 12,
     "metadata": {},
     "output_type": "execute_result"
    }
   ],
   "source": [
    "df_final.info()\n",
    "df_final.isna().sum().sort_values(ascending=False).head(10)\n"
   ]
  },
  {
   "cell_type": "code",
   "execution_count": 13,
   "id": "69c11c1c",
   "metadata": {},
   "outputs": [
    {
     "name": "stdout",
     "output_type": "stream",
     "text": [
      "✅ Dataset final guardado en data/processed/esports_occidente_final.csv\n"
     ]
    }
   ],
   "source": [
    "from pathlib import Path\n",
    "PRO = Path(\"data/processed\"); PRO.mkdir(parents=True, exist_ok=True)\n",
    "df_final.to_csv(PRO/\"esports_occidente_final.csv\", index=False)\n",
    "print(\"✅ Dataset final guardado en data/processed/esports_occidente_final.csv\")\n"
   ]
  },
  {
   "cell_type": "code",
   "execution_count": 14,
   "id": "e4e01d8a",
   "metadata": {},
   "outputs": [],
   "source": [
    "# Twitch agregado\n",
    "t_ag = t_ag.rename(columns={\n",
    "    \"juego_norm\":\"JuegoNorm\", \"año\":\"Año\",\n",
    "    \"media_viewers\":\"MediaViewers\", \"pico_viewers\":\"PicoViewers\",\n",
    "    \"horas_vistas\":\"HorasVistas\"\n",
    "})\n",
    "\n",
    "# Esports agregado\n",
    "e_ag = e_ag.rename(columns={\n",
    "    \"juego_norm\":\"JuegoNorm\", \"año\":\"Año\",\n",
    "    \"premios_usd\":\"PremiosUSD\", \"torneos\":\"Torneos\"\n",
    "})\n",
    "\n",
    "# General (dimensión juego)\n",
    "g = g.rename(columns={\n",
    "    \"juego_norm\":\"JuegoNorm\",\n",
    "    \"genero\":\"Género\",\n",
    "    \"premios_totales_usd\":\"PremiosTotalesUSD\",\n",
    "    \"jugadores_totales\":\"JugadoresTotales\",\n",
    "    \"torneos_totales\":\"TorneosTotales\"\n",
    "})\n"
   ]
  },
  {
   "cell_type": "code",
   "execution_count": 15,
   "id": "273f9a65",
   "metadata": {},
   "outputs": [],
   "source": [
    "df_merge = t_ag.merge(e_ag, on=[\"JuegoNorm\",\"Año\"], how=\"left\")\n",
    "df_final = df_merge.merge(\n",
    "    g[[\"JuegoNorm\",\"Género\",\"PremiosTotalesUSD\",\"JugadoresTotales\",\"TorneosTotales\"]],\n",
    "    on=\"JuegoNorm\", how=\"left\"\n",
    ")\n"
   ]
  },
  {
   "cell_type": "code",
   "execution_count": 16,
   "id": "8d61e2e9",
   "metadata": {},
   "outputs": [],
   "source": [
    "cols = [\"JuegoNorm\",\"Año\",\"MediaViewers\",\"PicoViewers\",\"HorasVistas\",\n",
    "        \"PremiosUSD\",\"Torneos\",\"Género\",\"PremiosTotalesUSD\",\"JugadoresTotales\",\"TorneosTotales\"]\n",
    "df_final = df_final.reindex(columns=cols)\n",
    "df_final.to_csv(\"data/processed/Esports_Occidente_Final.csv\", index=False)\n"
   ]
  },
  {
   "cell_type": "code",
   "execution_count": 17,
   "id": "122d3275",
   "metadata": {},
   "outputs": [],
   "source": [
    "# 1) Asegura tipos\n",
    "e_ag[\"Año\"] = pd.to_numeric(e_ag[\"Año\"], errors=\"coerce\")\n",
    "\n",
    "# 2) Filtra premios 2016–2024\n",
    "e_1624 = e_ag.query(\"2016 <= Año <= 2024\").copy()\n",
    "\n",
    "# 3) (Opcional) re-agrega por JuegoNorm-Año por si hubiera duplicados\n",
    "e_1624 = (e_1624\n",
    "          .groupby([\"JuegoNorm\",\"Año\"], as_index=False)[[\"PremiosUSD\",\"Torneos\"]]\n",
    "          .sum())\n",
    "\n",
    "# 4) (Opcional) si ya tienes df_merge/df_final y quieres limitar el análisis a ese rango:\n",
    "df_final_1624 = df_final[df_final[\"Año\"].between(2016, 2024)].copy()\n",
    "\n",
    "# 5) Guardar\n",
    "e_1624.to_csv(\"data/processed/Tournaments_2016_2024.csv\", index=False)\n",
    "df_final_1624.to_csv(\"data/processed/Esports_Occidente_2016_2024.csv\", index=False)\n"
   ]
  },
  {
   "cell_type": "code",
   "execution_count": 18,
   "id": "28671dd6",
   "metadata": {},
   "outputs": [
    {
     "data": {
      "text/plain": [
       "(1998, 2024)"
      ]
     },
     "execution_count": 18,
     "metadata": {},
     "output_type": "execute_result"
    }
   ],
   "source": [
    "# sanity check\n",
    "e_ag[\"Año\"].min(), e_ag[\"Año\"].max()   # para confirmar cobertura real\n"
   ]
  },
  {
   "cell_type": "code",
   "execution_count": 19,
   "id": "9069098f",
   "metadata": {},
   "outputs": [
    {
     "data": {
      "application/vnd.microsoft.datawrangler.viewer.v0+json": {
       "columns": [
        {
         "name": "index",
         "rawType": "object",
         "type": "string"
        },
        {
         "name": "0",
         "rawType": "int64",
         "type": "integer"
        }
       ],
       "ref": "a23cd38d-019d-49e3-aa07-0ae322cf893e",
       "rows": [
        [
         "Torneos",
         "4179"
        ],
        [
         "PremiosUSD",
         "4179"
        ],
        [
         "PremiosTotalesUSD",
         "3931"
        ],
        [
         "JugadoresTotales",
         "3931"
        ],
        [
         "TorneosTotales",
         "3931"
        ],
        [
         "Género",
         "3931"
        ],
        [
         "JuegoNorm",
         "0"
        ],
        [
         "MediaViewers",
         "0"
        ],
        [
         "Año",
         "0"
        ],
        [
         "PicoViewers",
         "0"
        ]
       ],
       "shape": {
        "columns": 1,
        "rows": 10
       }
      },
      "text/plain": [
       "Torneos              4179\n",
       "PremiosUSD           4179\n",
       "PremiosTotalesUSD    3931\n",
       "JugadoresTotales     3931\n",
       "TorneosTotales       3931\n",
       "Género               3931\n",
       "JuegoNorm               0\n",
       "MediaViewers            0\n",
       "Año                     0\n",
       "PicoViewers             0\n",
       "dtype: int64"
      ]
     },
     "execution_count": 19,
     "metadata": {},
     "output_type": "execute_result"
    }
   ],
   "source": [
    "df_final_1624 = df_final[df_final[\"Año\"].between(2016, 2024)].copy()\n",
    "df_final_1624.drop_duplicates(inplace=True)\n",
    "df_final_1624.isna().sum().sort_values(ascending=False).head(10)\n",
    "\n"
   ]
  },
  {
   "cell_type": "code",
   "execution_count": 20,
   "id": "0a960537",
   "metadata": {},
   "outputs": [],
   "source": [
    "kpis = (df_final_1624\n",
    "        .groupby(\"JuegoNorm\", as_index=False)\n",
    "        .agg(MediaViewers=(\"MediaViewers\",\"mean\"),\n",
    "             PicoViewers=(\"PicoViewers\",\"max\"),\n",
    "             HorasVistas=(\"HorasVistas\",\"sum\"),\n",
    "             PremiosUSD=(\"PremiosUSD\",\"sum\"),\n",
    "             Torneos=(\"Torneos\",\"sum\")))\n"
   ]
  },
  {
   "cell_type": "code",
   "execution_count": 21,
   "id": "f28110f4",
   "metadata": {},
   "outputs": [
    {
     "data": {
      "text/plain": [
       "(                  JuegoNorm   MediaViewers  PicoViewers  HorasVistas  \\\n",
       " 959           just chatting  251760.793651      2787896  14397469625   \n",
       " 1060                    lol  147528.206790      3145012  11296781271   \n",
       " 2195               valorant  117624.566667      1728977   4631862775   \n",
       " 783      grand theft auto v   99826.030864      1140656   7482026514   \n",
       " 701                fortnite   92210.135417      3291525   6224642826   \n",
       " 327          counter-strike   74317.817460      1548040    876395705   \n",
       " 356                    csgo   68367.289583      1916027   4315553263   \n",
       " 492                   dota2   58927.419753      1636441   4503767707   \n",
       " 257   call of duty: warzone   56547.463889      1629284   2764017645   \n",
       " 74             apex legends   52917.957492       666868   2655211457   \n",
       " \n",
       "         PremiosUSD  Torneos  \n",
       " 959   0.000000e+00      0.0  \n",
       " 1060  8.667619e+07   1297.0  \n",
       " 2195  3.201822e+07   1316.0  \n",
       " 783   0.000000e+00      0.0  \n",
       " 701   1.910127e+08   2293.0  \n",
       " 327   0.000000e+00      0.0  \n",
       " 356   1.528453e+08   5794.0  \n",
       " 492   3.046580e+08   1323.0  \n",
       " 257   1.290481e+07    406.0  \n",
       " 74    2.615324e+07    731.0  ,\n",
       "           JuegoNorm   MediaViewers  PicoViewers  HorasVistas    PremiosUSD  \\\n",
       " 492           dota2   58927.419753      1636441   4503767707  3.046580e+08   \n",
       " 701        fortnite   92210.135417      3291525   6224642826  1.910127e+08   \n",
       " 356            csgo   68367.289583      1916027   4315553263  1.528453e+08   \n",
       " 1060            lol  147528.206790      3145012  11296781271  8.667619e+07   \n",
       " 1617  rocket league   10668.759259       408512    816479527  4.240600e+07   \n",
       " 1364      overwatch   23504.088023      1459249   1393597856  3.525591e+07   \n",
       " 2195       valorant  117624.566667      1728977   4631862775  3.201822e+07   \n",
       " 838     hearthstone   32331.580247       331248   2513198715  2.721153e+07   \n",
       " 74     apex legends   52917.957492       666868   2655211457  2.615324e+07   \n",
       " 1799   starcraft ii    5069.373457       148897    393959559  2.406420e+07   \n",
       " \n",
       "       Torneos  \n",
       " 492    1323.0  \n",
       " 701    2293.0  \n",
       " 356    5794.0  \n",
       " 1060   1297.0  \n",
       " 1617   4477.0  \n",
       " 1364    837.0  \n",
       " 2195   1316.0  \n",
       " 838     730.0  \n",
       " 74      731.0  \n",
       " 1799   3918.0  )"
      ]
     },
     "execution_count": 21,
     "metadata": {},
     "output_type": "execute_result"
    }
   ],
   "source": [
    "top_viewers = kpis.sort_values(\"MediaViewers\", ascending=False).head(10)\n",
    "top_premios = kpis.sort_values(\"PremiosUSD\", ascending=False).head(10)\n",
    "top_viewers, top_premios\n"
   ]
  },
  {
   "cell_type": "code",
   "execution_count": 22,
   "id": "f1420571",
   "metadata": {},
   "outputs": [
    {
     "data": {
      "application/vnd.microsoft.datawrangler.viewer.v0+json": {
       "columns": [
        {
         "name": "index",
         "rawType": "int64",
         "type": "integer"
        },
        {
         "name": "JuegoNorm",
         "rawType": "object",
         "type": "string"
        },
        {
         "name": "MediaViewers",
         "rawType": "float64",
         "type": "float"
        },
        {
         "name": "PremiosUSD",
         "rawType": "float64",
         "type": "float"
        }
       ],
       "ref": "37784d7f-846c-452a-8c2b-1182b1b6d5be",
       "rows": [
        [
         "0",
         ".hack//g.u. last recode",
         "202.0",
         "0.0"
        ],
        [
         "1",
         "20 minutes till dawn",
         "1267.0",
         "0.0"
        ],
        [
         "2",
         "2xko",
         "2876.0",
         "0.0"
        ],
        [
         "3",
         "60 parsecs!",
         "736.0",
         "0.0"
        ],
        [
         "4",
         "60 seconds!",
         "415.41666666666663",
         "0.0"
        ]
       ],
       "shape": {
        "columns": 3,
        "rows": 5
       }
      },
      "text/html": [
       "<div>\n",
       "<style scoped>\n",
       "    .dataframe tbody tr th:only-of-type {\n",
       "        vertical-align: middle;\n",
       "    }\n",
       "\n",
       "    .dataframe tbody tr th {\n",
       "        vertical-align: top;\n",
       "    }\n",
       "\n",
       "    .dataframe thead th {\n",
       "        text-align: right;\n",
       "    }\n",
       "</style>\n",
       "<table border=\"1\" class=\"dataframe\">\n",
       "  <thead>\n",
       "    <tr style=\"text-align: right;\">\n",
       "      <th></th>\n",
       "      <th>JuegoNorm</th>\n",
       "      <th>MediaViewers</th>\n",
       "      <th>PremiosUSD</th>\n",
       "    </tr>\n",
       "  </thead>\n",
       "  <tbody>\n",
       "    <tr>\n",
       "      <th>0</th>\n",
       "      <td>.hack//g.u. last recode</td>\n",
       "      <td>202.000000</td>\n",
       "      <td>0.0</td>\n",
       "    </tr>\n",
       "    <tr>\n",
       "      <th>1</th>\n",
       "      <td>20 minutes till dawn</td>\n",
       "      <td>1267.000000</td>\n",
       "      <td>0.0</td>\n",
       "    </tr>\n",
       "    <tr>\n",
       "      <th>2</th>\n",
       "      <td>2xko</td>\n",
       "      <td>2876.000000</td>\n",
       "      <td>0.0</td>\n",
       "    </tr>\n",
       "    <tr>\n",
       "      <th>3</th>\n",
       "      <td>60 parsecs!</td>\n",
       "      <td>736.000000</td>\n",
       "      <td>0.0</td>\n",
       "    </tr>\n",
       "    <tr>\n",
       "      <th>4</th>\n",
       "      <td>60 seconds!</td>\n",
       "      <td>415.416667</td>\n",
       "      <td>0.0</td>\n",
       "    </tr>\n",
       "  </tbody>\n",
       "</table>\n",
       "</div>"
      ],
      "text/plain": [
       "                 JuegoNorm  MediaViewers  PremiosUSD\n",
       "0  .hack//g.u. last recode    202.000000         0.0\n",
       "1     20 minutes till dawn   1267.000000         0.0\n",
       "2                     2xko   2876.000000         0.0\n",
       "3              60 parsecs!    736.000000         0.0\n",
       "4              60 seconds!    415.416667         0.0"
      ]
     },
     "execution_count": 22,
     "metadata": {},
     "output_type": "execute_result"
    }
   ],
   "source": [
    "scatter_df = kpis[[\"JuegoNorm\",\"MediaViewers\",\"PremiosUSD\"]].dropna()\n",
    "scatter_df.head()\n"
   ]
  },
  {
   "cell_type": "code",
   "execution_count": 23,
   "id": "ea5174d8",
   "metadata": {},
   "outputs": [],
   "source": [
    "from pathlib import Path\n",
    "Path(\"data/processed\").mkdir(parents=True, exist_ok=True)\n",
    "kpis.to_csv(\"data/processed/KPIs_2016_2024.csv\", index=False)\n",
    "top_viewers.to_csv(\"data/processed/Top_Viewers_2016_2024.csv\", index=False)\n",
    "top_premios.to_csv(\"data/processed/Top_Premios_2016_2024.csv\", index=False)\n",
    "scatter_df.to_csv(\"data/processed/Scatter_Viewers_Premios_2016_2024.csv\", index=False)\n"
   ]
  },
  {
   "cell_type": "code",
   "execution_count": 24,
   "id": "9e644467",
   "metadata": {},
   "outputs": [
    {
     "data": {
      "application/vnd.microsoft.datawrangler.viewer.v0+json": {
       "columns": [
        {
         "name": "Año",
         "rawType": "int64",
         "type": "integer"
        },
        {
         "name": "0",
         "rawType": "int64",
         "type": "integer"
        }
       ],
       "ref": "b38fed97-285d-4950-8e8f-21b59cf0d5da",
       "rows": [
        [
         "2016",
         "619"
        ],
        [
         "2017",
         "597"
        ],
        [
         "2018",
         "586"
        ],
        [
         "2019",
         "522"
        ],
        [
         "2020",
         "502"
        ],
        [
         "2021",
         "488"
        ],
        [
         "2022",
         "467"
        ],
        [
         "2023",
         "508"
        ],
        [
         "2024",
         "411"
        ]
       ],
       "shape": {
        "columns": 1,
        "rows": 9
       }
      },
      "text/plain": [
       "Año\n",
       "2016    619\n",
       "2017    597\n",
       "2018    586\n",
       "2019    522\n",
       "2020    502\n",
       "2021    488\n",
       "2022    467\n",
       "2023    508\n",
       "2024    411\n",
       "dtype: int64"
      ]
     },
     "execution_count": 24,
     "metadata": {},
     "output_type": "execute_result"
    }
   ],
   "source": [
    "df_final_1624.groupby(\"Año\").size()\n"
   ]
  },
  {
   "cell_type": "code",
   "execution_count": null,
   "id": "20654fe4",
   "metadata": {},
   "outputs": [],
   "source": []
  }
 ],
 "metadata": {
  "kernelspec": {
   "display_name": "base",
   "language": "python",
   "name": "python3"
  },
  "language_info": {
   "codemirror_mode": {
    "name": "ipython",
    "version": 3
   },
   "file_extension": ".py",
   "mimetype": "text/x-python",
   "name": "python",
   "nbconvert_exporter": "python",
   "pygments_lexer": "ipython3",
   "version": "3.13.5"
  }
 },
 "nbformat": 4,
 "nbformat_minor": 5
}
