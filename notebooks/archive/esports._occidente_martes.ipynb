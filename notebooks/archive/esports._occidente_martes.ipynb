{
 "cells": [
  {
   "cell_type": "code",
   "execution_count": 1,
   "id": "3e72cf86",
   "metadata": {},
   "outputs": [
    {
     "name": "stdout",
     "output_type": "stream",
     "text": [
      "\n",
      "Twitch_game_data (12 columnas):\n",
      "['Rank', 'Game', 'Month', 'Year', 'Hours_watched', 'Hours_streamed', 'Peak_viewers', 'Peak_channels', 'Streamers', 'Avg_viewers', 'Avg_channels', 'Avg_viewer_ratio']\n",
      "\n",
      "Twitch_global_data (9 columnas):\n",
      "['year', 'Month', 'Hours_watched', 'Avg_viewers', 'Peak_viewers', 'Streams', 'Avg_channels', 'Games_streamed', 'Viewer_ratio']\n",
      "\n",
      "GeneralEsportData (8 columnas):\n",
      "['Game', 'ReleaseDate', 'Genre', 'TotalEarnings', 'OfflineEarnings', 'PercentOffline', 'TotalPlayers', 'TotalTournaments']\n",
      "\n",
      "HistoricalEsportData (5 columnas):\n",
      "['Date', 'Game', 'Earnings', 'Players', 'Tournaments']\n"
     ]
    }
   ],
   "source": [
    "# 1) Ubicar data/raw + helper\n",
    "from pathlib import Path\n",
    "import pandas as pd\n",
    "import numpy as np\n",
    "\n",
    "RAW = (Path.cwd().parent / \"data\" / \"raw\")\n",
    "if not RAW.exists():\n",
    "    base = Path.cwd()\n",
    "    for c in [base] + list(base.parents):\n",
    "        d = c / \"data\" / \"raw\"\n",
    "        if d.exists():\n",
    "            RAW = d\n",
    "            break\n",
    "\n",
    "\n",
    "# 2) Cargar y mostrar columnas \n",
    "def lee(p):\n",
    "    try:\n",
    "        return pd.read_csv(p, encoding=\"utf-8\", low_memory=False)\n",
    "    except UnicodeDecodeError:\n",
    "        return pd.read_csv(p, encoding=\"latin1\", low_memory=False)\n",
    "\n",
    "twitch_game       = lee(RAW / \"Twitch_game_data.csv\")\n",
    "twitch_global     = lee(RAW / \"Twitch_global_data.csv\")\n",
    "general_esport    = lee(RAW / \"GeneralEsportData.csv\")\n",
    "historical_esport = lee(RAW / \"HistoricalEsportData.csv\")\n",
    "\n",
    "for nombre, df in {\n",
    "    \"Twitch_game_data\": twitch_game,\n",
    "    \"Twitch_global_data\": twitch_global,\n",
    "    \"GeneralEsportData\": general_esport,\n",
    "    \"HistoricalEsportData\": historical_esport,\n",
    "}.items():\n",
    "    print(f\"\\n{nombre} ({df.shape[1]} columnas):\")\n",
    "    print(list(df.columns))\n",
    "\n"
   ]
  },
  {
   "cell_type": "code",
   "execution_count": 2,
   "id": "e2d09dab",
   "metadata": {},
   "outputs": [],
   "source": [
    "# 1) Función para estandarizar nombres: minúsculas + snake_case\n",
    "def limpiar_columnas(df):\n",
    "    df = df.copy()\n",
    "    df.columns = (\n",
    "        df.columns\n",
    "          .str.strip()\n",
    "          .str.lower()\n",
    "          .str.replace(\" \", \"_\")\n",
    "          .str.replace(\"-\", \"_\")\n",
    "    )\n",
    "    return df\n"
   ]
  },
  {
   "cell_type": "code",
   "execution_count": 3,
   "id": "f08be274",
   "metadata": {},
   "outputs": [],
   "source": [
    "twitch_game_clean       = limpiar_columnas(twitch_game)\n",
    "twitch_global_clean     = limpiar_columnas(twitch_global)\n",
    "general_esport_clean    = limpiar_columnas(general_esport)\n",
    "historical_esport_clean = limpiar_columnas(historical_esport)\n",
    "\n",
    "datasets_limpios = {\n",
    "    \"twitch_game_clean\": twitch_game_clean,\n",
    "    \"twitch_global_clean\": twitch_global_clean,\n",
    "    \"general_esport_clean\": general_esport_clean,\n",
    "    \"historical_esport_clean\": historical_esport_clean,\n",
    "}"
   ]
  },
  {
   "cell_type": "code",
   "execution_count": 4,
   "id": "136f185c",
   "metadata": {},
   "outputs": [
    {
     "name": "stdout",
     "output_type": "stream",
     "text": [
      "\n",
      "twitch_game_clean (12 columnas):\n",
      "['rank', 'game', 'month', 'year', 'hours_watched', 'hours_streamed', 'peak_viewers', 'peak_channels', 'streamers', 'avg_viewers', 'avg_channels', 'avg_viewer_ratio']\n",
      "\n",
      "twitch_global_clean (9 columnas):\n",
      "['year', 'month', 'hours_watched', 'avg_viewers', 'peak_viewers', 'streams', 'avg_channels', 'games_streamed', 'viewer_ratio']\n",
      "\n",
      "general_esport_clean (8 columnas):\n",
      "['game', 'releasedate', 'genre', 'totalearnings', 'offlineearnings', 'percentoffline', 'totalplayers', 'totaltournaments']\n",
      "\n",
      "historical_esport_clean (5 columnas):\n",
      "['date', 'game', 'earnings', 'players', 'tournaments']\n"
     ]
    }
   ],
   "source": [
    "for nombre, df in datasets_limpios.items():\n",
    "\tprint(f\"\\n{nombre} ({df.shape[1]} columnas):\")\n",
    "\tprint(list(df.columns))"
   ]
  },
  {
   "cell_type": "code",
   "execution_count": 5,
   "id": "5f7bd26e",
   "metadata": {},
   "outputs": [],
   "source": [
    "# %% Unificar columnas clave (una sola vez)\n",
    "twitch_game_clean = twitch_game_clean.rename(columns={\"game\": \"game\", \"year\": \"year\"})\n",
    "twitch_global_clean = twitch_global_clean.rename(columns={\"year\": \"year\"})\n",
    "\n",
    "general_esport_clean = general_esport_clean.rename(columns={\n",
    "    \"releasedate\": \"year\",\n",
    "    \"totalearnings\": \"earnings_total\",\n",
    "    \"offlineearnings\": \"earnings_offline\",\n",
    "    \"percentoffline\": \"percent_offline\",\n",
    "    \"totalplayers\": \"players_total\",\n",
    "    \"totaltournaments\": \"tournaments_total\"\n",
    "})\n",
    "\n",
    "historical_esport_clean = historical_esport_clean.rename(columns={\n",
    "    \"date\": \"year\",\n",
    "    \"earnings\": \"earnings_total\",\n",
    "    \"players\": \"players_total\",\n",
    "    \"tournaments\": \"tournaments_total\"\n",
    "})\n"
   ]
  },
  {
   "cell_type": "code",
   "execution_count": 6,
   "id": "d816fde0",
   "metadata": {},
   "outputs": [
    {
     "name": "stdout",
     "output_type": "stream",
     "text": [
      "Años únicos Twitch (game): <IntegerArray>\n",
      "[2016, 2017, 2018, 2019, 2020, 2021, 2022, 2023, 2024]\n",
      "Length: 9, dtype: Int64\n",
      "Años únicos Twitch (global): <IntegerArray>\n",
      "[2016, 2017, 2018, 2019, 2020, 2021, 2022, 2023, 2024]\n",
      "Length: 9, dtype: Int64\n"
     ]
    }
   ],
   "source": [
    "# %% FIX-01: corregir 'year' en datasets de Twitch desde los dataframes originales\n",
    "twitch_game_clean[\"year\"]   = pd.to_numeric(twitch_game[\"Year\"], errors=\"coerce\").astype(\"Int64\")\n",
    "twitch_global_clean[\"year\"] = pd.to_numeric(twitch_global[\"year\"], errors=\"coerce\").astype(\"Int64\")\n",
    "\n",
    "print(\"Años únicos Twitch (game):\", twitch_game_clean[\"year\"].unique()[:10])\n",
    "print(\"Años únicos Twitch (global):\", twitch_global_clean[\"year\"].unique()[:10])\n"
   ]
  },
  {
   "cell_type": "code",
   "execution_count": 7,
   "id": "85b93f4d",
   "metadata": {},
   "outputs": [],
   "source": [
    "# %% Tipos numéricos en Esports\n",
    "general_esport_clean[\"year\"] = pd.to_numeric(general_esport_clean[\"year\"], errors=\"coerce\").astype(\"Int64\")\n",
    "for col in [\"earnings_total\", \"earnings_offline\", \"players_total\", \"tournaments_total\"]:\n",
    "    general_esport_clean[col] = pd.to_numeric(general_esport_clean[col], errors=\"coerce\")\n",
    "\n",
    "historical_esport_clean[\"year\"] = pd.to_numeric(historical_esport_clean[\"year\"], errors=\"coerce\").astype(\"Int64\")\n",
    "for col in [\"earnings_total\", \"players_total\", \"tournaments_total\"]:\n",
    "    historical_esport_clean[col] = pd.to_numeric(historical_esport_clean[col], errors=\"coerce\")\n"
   ]
  },
  {
   "cell_type": "code",
   "execution_count": 8,
   "id": "f00cec1f",
   "metadata": {},
   "outputs": [
    {
     "name": "stdout",
     "output_type": "stream",
     "text": [
      "pop -> (4718, 6)\n"
     ]
    },
    {
     "data": {
      "application/vnd.microsoft.datawrangler.viewer.v0+json": {
       "columns": [
        {
         "name": "index",
         "rawType": "int64",
         "type": "integer"
        },
        {
         "name": "game",
         "rawType": "object",
         "type": "string"
        },
        {
         "name": "year",
         "rawType": "Int64",
         "type": "integer"
        },
        {
         "name": "hours_watched",
         "rawType": "int64",
         "type": "integer"
        },
        {
         "name": "hours_streamed",
         "rawType": "int64",
         "type": "integer"
        },
        {
         "name": "avg_viewers",
         "rawType": "float64",
         "type": "float"
        },
        {
         "name": "peak_viewers",
         "rawType": "int64",
         "type": "integer"
        }
       ],
       "ref": "966eb90d-be82-41a3-936c-f05c4e86cecc",
       "rows": [
        [
         "0",
         ".hack//G.U. Last Recode",
         "2017",
         "145350",
         "35258",
         "202.0",
         "1222"
        ],
        [
         "1",
         "20 Minutes Till Dawn",
         "2022",
         "911356",
         "12253",
         "1267.0",
         "29743"
        ],
        [
         "2",
         "2XKO",
         "2024",
         "2137305",
         "31942",
         "2876.0",
         "60961"
        ],
        [
         "3",
         "60 Parsecs!",
         "2018",
         "529688",
         "1867",
         "736.0",
         "31960"
        ],
        [
         "4",
         "60 Seconds!",
         "2016",
         "1151013",
         "3165",
         "517.6666666666666",
         "56904"
        ],
        [
         "5",
         "60 Seconds!",
         "2017",
         "623520",
         "1932",
         "282.0",
         "31311"
        ],
        [
         "6",
         "60 Seconds!",
         "2018",
         "222209",
         "871",
         "299.0",
         "18245"
        ],
        [
         "7",
         "60 Seconds!",
         "2019",
         "837363",
         "3240",
         "563.0",
         "41049"
        ],
        [
         "8",
         "60 Seconds! Reatomized",
         "2023",
         "756797",
         "2576",
         "1018.0",
         "57965"
        ],
        [
         "9",
         "60 Seconds! Reatomized",
         "2024",
         "4975406",
         "16843",
         "1689.5",
         "142643"
        ]
       ],
       "shape": {
        "columns": 6,
        "rows": 10
       }
      },
      "text/html": [
       "<div>\n",
       "<style scoped>\n",
       "    .dataframe tbody tr th:only-of-type {\n",
       "        vertical-align: middle;\n",
       "    }\n",
       "\n",
       "    .dataframe tbody tr th {\n",
       "        vertical-align: top;\n",
       "    }\n",
       "\n",
       "    .dataframe thead th {\n",
       "        text-align: right;\n",
       "    }\n",
       "</style>\n",
       "<table border=\"1\" class=\"dataframe\">\n",
       "  <thead>\n",
       "    <tr style=\"text-align: right;\">\n",
       "      <th></th>\n",
       "      <th>game</th>\n",
       "      <th>year</th>\n",
       "      <th>hours_watched</th>\n",
       "      <th>hours_streamed</th>\n",
       "      <th>avg_viewers</th>\n",
       "      <th>peak_viewers</th>\n",
       "    </tr>\n",
       "  </thead>\n",
       "  <tbody>\n",
       "    <tr>\n",
       "      <th>0</th>\n",
       "      <td>.hack//G.U. Last Recode</td>\n",
       "      <td>2017</td>\n",
       "      <td>145350</td>\n",
       "      <td>35258</td>\n",
       "      <td>202.000000</td>\n",
       "      <td>1222</td>\n",
       "    </tr>\n",
       "    <tr>\n",
       "      <th>1</th>\n",
       "      <td>20 Minutes Till Dawn</td>\n",
       "      <td>2022</td>\n",
       "      <td>911356</td>\n",
       "      <td>12253</td>\n",
       "      <td>1267.000000</td>\n",
       "      <td>29743</td>\n",
       "    </tr>\n",
       "    <tr>\n",
       "      <th>2</th>\n",
       "      <td>2XKO</td>\n",
       "      <td>2024</td>\n",
       "      <td>2137305</td>\n",
       "      <td>31942</td>\n",
       "      <td>2876.000000</td>\n",
       "      <td>60961</td>\n",
       "    </tr>\n",
       "    <tr>\n",
       "      <th>3</th>\n",
       "      <td>60 Parsecs!</td>\n",
       "      <td>2018</td>\n",
       "      <td>529688</td>\n",
       "      <td>1867</td>\n",
       "      <td>736.000000</td>\n",
       "      <td>31960</td>\n",
       "    </tr>\n",
       "    <tr>\n",
       "      <th>4</th>\n",
       "      <td>60 Seconds!</td>\n",
       "      <td>2016</td>\n",
       "      <td>1151013</td>\n",
       "      <td>3165</td>\n",
       "      <td>517.666667</td>\n",
       "      <td>56904</td>\n",
       "    </tr>\n",
       "    <tr>\n",
       "      <th>5</th>\n",
       "      <td>60 Seconds!</td>\n",
       "      <td>2017</td>\n",
       "      <td>623520</td>\n",
       "      <td>1932</td>\n",
       "      <td>282.000000</td>\n",
       "      <td>31311</td>\n",
       "    </tr>\n",
       "    <tr>\n",
       "      <th>6</th>\n",
       "      <td>60 Seconds!</td>\n",
       "      <td>2018</td>\n",
       "      <td>222209</td>\n",
       "      <td>871</td>\n",
       "      <td>299.000000</td>\n",
       "      <td>18245</td>\n",
       "    </tr>\n",
       "    <tr>\n",
       "      <th>7</th>\n",
       "      <td>60 Seconds!</td>\n",
       "      <td>2019</td>\n",
       "      <td>837363</td>\n",
       "      <td>3240</td>\n",
       "      <td>563.000000</td>\n",
       "      <td>41049</td>\n",
       "    </tr>\n",
       "    <tr>\n",
       "      <th>8</th>\n",
       "      <td>60 Seconds! Reatomized</td>\n",
       "      <td>2023</td>\n",
       "      <td>756797</td>\n",
       "      <td>2576</td>\n",
       "      <td>1018.000000</td>\n",
       "      <td>57965</td>\n",
       "    </tr>\n",
       "    <tr>\n",
       "      <th>9</th>\n",
       "      <td>60 Seconds! Reatomized</td>\n",
       "      <td>2024</td>\n",
       "      <td>4975406</td>\n",
       "      <td>16843</td>\n",
       "      <td>1689.500000</td>\n",
       "      <td>142643</td>\n",
       "    </tr>\n",
       "  </tbody>\n",
       "</table>\n",
       "</div>"
      ],
      "text/plain": [
       "                      game  year  hours_watched  hours_streamed  avg_viewers  \\\n",
       "0  .hack//G.U. Last Recode  2017         145350           35258   202.000000   \n",
       "1     20 Minutes Till Dawn  2022         911356           12253  1267.000000   \n",
       "2                     2XKO  2024        2137305           31942  2876.000000   \n",
       "3              60 Parsecs!  2018         529688            1867   736.000000   \n",
       "4              60 Seconds!  2016        1151013            3165   517.666667   \n",
       "5              60 Seconds!  2017         623520            1932   282.000000   \n",
       "6              60 Seconds!  2018         222209             871   299.000000   \n",
       "7              60 Seconds!  2019         837363            3240   563.000000   \n",
       "8   60 Seconds! Reatomized  2023         756797            2576  1018.000000   \n",
       "9   60 Seconds! Reatomized  2024        4975406           16843  1689.500000   \n",
       "\n",
       "   peak_viewers  \n",
       "0          1222  \n",
       "1         29743  \n",
       "2         60961  \n",
       "3         31960  \n",
       "4         56904  \n",
       "5         31311  \n",
       "6         18245  \n",
       "7         41049  \n",
       "8         57965  \n",
       "9        142643  "
      ]
     },
     "execution_count": 8,
     "metadata": {},
     "output_type": "execute_result"
    }
   ],
   "source": [
    "# %% POP: agregación mensual → anual por juego\n",
    "# asegurar numéricos básicos por si viene algo como texto\n",
    "for c in [\"hours_watched\",\"hours_streamed\",\"avg_viewers\",\"peak_viewers\",\"avg_channels\",\"streamers\"]:\n",
    "    if c in twitch_game_clean.columns:\n",
    "        twitch_game_clean[c] = pd.to_numeric(twitch_game_clean[c], errors=\"coerce\")\n",
    "\n",
    "# limitar a rango razonable de años (opcional)\n",
    "twitch_game_clean = twitch_game_clean[\n",
    "    (twitch_game_clean[\"year\"] >= 2016) & (twitch_game_clean[\"year\"] <= 2024)\n",
    "].copy()\n",
    "\n",
    "pop = (\n",
    "    twitch_game_clean\n",
    "    .groupby([\"game\",\"year\"], as_index=False)\n",
    "    .agg({\n",
    "        \"hours_watched\":  \"sum\",\n",
    "        \"hours_streamed\": \"sum\",\n",
    "        \"avg_viewers\":    \"mean\",\n",
    "        \"peak_viewers\":   \"max\"\n",
    "    })\n",
    ")\n",
    "\n",
    "print(\"pop ->\", pop.shape)\n",
    "pop.head(10)"
   ]
  },
  {
   "cell_type": "code",
   "execution_count": 9,
   "id": "ca64c06d",
   "metadata": {},
   "outputs": [
    {
     "name": "stdout",
     "output_type": "stream",
     "text": [
      "pop: (4718, 6)\n",
      "earnings_yearly: (10239, 5)\n",
      "meta_game: (669, 8)\n"
     ]
    }
   ],
   "source": [
    "# %% Premios anuales por juego y metadatos por juego\n",
    "earnings_yearly = historical_esport_clean.loc[\n",
    "    :, [\"game\",\"year\",\"earnings_total\",\"players_total\",\"tournaments_total\"]\n",
    "].copy()\n",
    "\n",
    "meta_game = (\n",
    "    general_esport_clean.loc[\n",
    "        :, [\"game\",\"genre\",\"year\",\"earnings_total\",\"earnings_offline\",\n",
    "            \"percent_offline\",\"players_total\",\"tournaments_total\"]\n",
    "    ]\n",
    "    .rename(columns={\n",
    "        \"year\": \"release_year\",\n",
    "        \"earnings_total\": \"earnings_total_lifetime\",\n",
    "        \"earnings_offline\": \"earnings_offline_lifetime\",\n",
    "        \"players_total\": \"players_total_lifetime\",\n",
    "        \"tournaments_total\": \"tournaments_total_lifetime\"\n",
    "    })\n",
    "    .copy()\n",
    ")\n",
    "\n",
    "for name, df in {\"pop\": pop, \"earnings_yearly\": earnings_yearly, \"meta_game\": meta_game}.items():\n",
    "    print(f\"{name}: {df.shape}\")\n"
   ]
  },
  {
   "cell_type": "code",
   "execution_count": 10,
   "id": "466d0f7f",
   "metadata": {},
   "outputs": [
    {
     "name": "stdout",
     "output_type": "stream",
     "text": [
      "panel (pop + earnings): (0, 9)\n"
     ]
    },
    {
     "data": {
      "application/vnd.microsoft.datawrangler.viewer.v0+json": {
       "columns": [
        {
         "name": "index",
         "rawType": "int64",
         "type": "integer"
        },
        {
         "name": "game",
         "rawType": "object",
         "type": "string"
        },
        {
         "name": "year",
         "rawType": "Int64",
         "type": "integer"
        },
        {
         "name": "hours_watched",
         "rawType": "int64",
         "type": "integer"
        },
        {
         "name": "hours_streamed",
         "rawType": "int64",
         "type": "integer"
        },
        {
         "name": "avg_viewers",
         "rawType": "float64",
         "type": "float"
        },
        {
         "name": "peak_viewers",
         "rawType": "int64",
         "type": "integer"
        },
        {
         "name": "earnings_total",
         "rawType": "float64",
         "type": "float"
        },
        {
         "name": "players_total",
         "rawType": "int64",
         "type": "integer"
        },
        {
         "name": "tournaments_total",
         "rawType": "int64",
         "type": "integer"
        }
       ],
       "ref": "d2c59a6c-9cad-4c5b-bbf0-fee0ba285c07",
       "rows": [],
       "shape": {
        "columns": 9,
        "rows": 0
       }
      },
      "text/html": [
       "<div>\n",
       "<style scoped>\n",
       "    .dataframe tbody tr th:only-of-type {\n",
       "        vertical-align: middle;\n",
       "    }\n",
       "\n",
       "    .dataframe tbody tr th {\n",
       "        vertical-align: top;\n",
       "    }\n",
       "\n",
       "    .dataframe thead th {\n",
       "        text-align: right;\n",
       "    }\n",
       "</style>\n",
       "<table border=\"1\" class=\"dataframe\">\n",
       "  <thead>\n",
       "    <tr style=\"text-align: right;\">\n",
       "      <th></th>\n",
       "      <th>game</th>\n",
       "      <th>year</th>\n",
       "      <th>hours_watched</th>\n",
       "      <th>hours_streamed</th>\n",
       "      <th>avg_viewers</th>\n",
       "      <th>peak_viewers</th>\n",
       "      <th>earnings_total</th>\n",
       "      <th>players_total</th>\n",
       "      <th>tournaments_total</th>\n",
       "    </tr>\n",
       "  </thead>\n",
       "  <tbody>\n",
       "  </tbody>\n",
       "</table>\n",
       "</div>"
      ],
      "text/plain": [
       "Empty DataFrame\n",
       "Columns: [game, year, hours_watched, hours_streamed, avg_viewers, peak_viewers, earnings_total, players_total, tournaments_total]\n",
       "Index: []"
      ]
     },
     "execution_count": 10,
     "metadata": {},
     "output_type": "execute_result"
    }
   ],
   "source": [
    "# %% MERGE: unir popularidad (Twitch) con premios (Esports) por juego y año\n",
    "panel = pop.merge(earnings_yearly, on=[\"game\",\"year\"], how=\"inner\")\n",
    "print(\"panel (pop + earnings):\", panel.shape)\n",
    "panel.head(10)\n"
   ]
  },
  {
   "cell_type": "code",
   "execution_count": 11,
   "id": "9f038294",
   "metadata": {},
   "outputs": [
    {
     "name": "stdout",
     "output_type": "stream",
     "text": [
      "Nulos por columna en panel:\n",
      "game                 0\n",
      "year                 0\n",
      "hours_watched        0\n",
      "hours_streamed       0\n",
      "avg_viewers          0\n",
      "peak_viewers         0\n",
      "earnings_total       0\n",
      "players_total        0\n",
      "tournaments_total    0\n",
      "dtype: int64\n",
      "\n",
      "Duplicados game-year: 0\n"
     ]
    }
   ],
   "source": [
    "# %% QA: comprobar si hay valores nulos o duplicados\n",
    "print(\"Nulos por columna en panel:\")\n",
    "print(panel.isna().sum().sort_values(ascending=False))\n",
    "print(\"\\nDuplicados game-year:\", panel.duplicated(subset=[\"game\",\"year\"]).sum())\n"
   ]
  },
  {
   "cell_type": "code",
   "execution_count": 12,
   "id": "d5a8b733",
   "metadata": {},
   "outputs": [
    {
     "name": "stdout",
     "output_type": "stream",
     "text": [
      "🎮 Top 10 por horas vistas:\n"
     ]
    },
    {
     "data": {
      "application/vnd.microsoft.datawrangler.viewer.v0+json": {
       "columns": [
        {
         "name": "index",
         "rawType": "int64",
         "type": "integer"
        },
        {
         "name": "game",
         "rawType": "object",
         "type": "string"
        },
        {
         "name": "hours_watched",
         "rawType": "int64",
         "type": "integer"
        },
        {
         "name": "earnings_total",
         "rawType": "float64",
         "type": "float"
        }
       ],
       "ref": "0172bfc4-d76f-44ea-92e4-e7a3b239dc24",
       "rows": [],
       "shape": {
        "columns": 3,
        "rows": 0
       }
      },
      "text/html": [
       "<div>\n",
       "<style scoped>\n",
       "    .dataframe tbody tr th:only-of-type {\n",
       "        vertical-align: middle;\n",
       "    }\n",
       "\n",
       "    .dataframe tbody tr th {\n",
       "        vertical-align: top;\n",
       "    }\n",
       "\n",
       "    .dataframe thead th {\n",
       "        text-align: right;\n",
       "    }\n",
       "</style>\n",
       "<table border=\"1\" class=\"dataframe\">\n",
       "  <thead>\n",
       "    <tr style=\"text-align: right;\">\n",
       "      <th></th>\n",
       "      <th>game</th>\n",
       "      <th>hours_watched</th>\n",
       "      <th>earnings_total</th>\n",
       "    </tr>\n",
       "  </thead>\n",
       "  <tbody>\n",
       "  </tbody>\n",
       "</table>\n",
       "</div>"
      ],
      "text/plain": [
       "Empty DataFrame\n",
       "Columns: [game, hours_watched, earnings_total]\n",
       "Index: []"
      ]
     },
     "metadata": {},
     "output_type": "display_data"
    },
    {
     "name": "stdout",
     "output_type": "stream",
     "text": [
      "\n",
      "🏆 Top 10 por premios totales:\n"
     ]
    },
    {
     "data": {
      "application/vnd.microsoft.datawrangler.viewer.v0+json": {
       "columns": [
        {
         "name": "index",
         "rawType": "int64",
         "type": "integer"
        },
        {
         "name": "game",
         "rawType": "object",
         "type": "string"
        },
        {
         "name": "hours_watched",
         "rawType": "int64",
         "type": "integer"
        },
        {
         "name": "earnings_total",
         "rawType": "float64",
         "type": "float"
        }
       ],
       "ref": "cadd9d04-9b9b-47a2-a98f-b604201e2a27",
       "rows": [],
       "shape": {
        "columns": 3,
        "rows": 0
       }
      },
      "text/html": [
       "<div>\n",
       "<style scoped>\n",
       "    .dataframe tbody tr th:only-of-type {\n",
       "        vertical-align: middle;\n",
       "    }\n",
       "\n",
       "    .dataframe tbody tr th {\n",
       "        vertical-align: top;\n",
       "    }\n",
       "\n",
       "    .dataframe thead th {\n",
       "        text-align: right;\n",
       "    }\n",
       "</style>\n",
       "<table border=\"1\" class=\"dataframe\">\n",
       "  <thead>\n",
       "    <tr style=\"text-align: right;\">\n",
       "      <th></th>\n",
       "      <th>game</th>\n",
       "      <th>hours_watched</th>\n",
       "      <th>earnings_total</th>\n",
       "    </tr>\n",
       "  </thead>\n",
       "  <tbody>\n",
       "  </tbody>\n",
       "</table>\n",
       "</div>"
      ],
      "text/plain": [
       "Empty DataFrame\n",
       "Columns: [game, hours_watched, earnings_total]\n",
       "Index: []"
      ]
     },
     "metadata": {},
     "output_type": "display_data"
    }
   ],
   "source": [
    "# %% Top 10 juegos más vistos y con mayores premios\n",
    "ranking = (\n",
    "    panel.groupby(\"game\", as_index=False)\n",
    "    .agg({\"hours_watched\": \"sum\", \"earnings_total\": \"sum\"})\n",
    ")\n",
    "\n",
    "print(\"🎮 Top 10 por horas vistas:\")\n",
    "display(ranking.sort_values(\"hours_watched\", ascending=False).head(10))\n",
    "\n",
    "print(\"\\n🏆 Top 10 por premios totales:\")\n",
    "display(ranking.sort_values(\"earnings_total\", ascending=False).head(10))\n"
   ]
  }
 ],
 "metadata": {
  "kernelspec": {
   "display_name": "base",
   "language": "python",
   "name": "python3"
  },
  "language_info": {
   "codemirror_mode": {
    "name": "ipython",
    "version": 3
   },
   "file_extension": ".py",
   "mimetype": "text/x-python",
   "name": "python",
   "nbconvert_exporter": "python",
   "pygments_lexer": "ipython3",
   "version": "3.13.5"
  }
 },
 "nbformat": 4,
 "nbformat_minor": 5
}
