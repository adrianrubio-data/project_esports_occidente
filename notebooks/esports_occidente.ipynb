{
 "cells": [
  {
   "cell_type": "code",
   "execution_count": 18,
   "id": "eb1ea794",
   "metadata": {},
   "outputs": [],
   "source": [
    "from pathlib import Path\n",
    "import pandas as pd"
   ]
  },
  {
   "cell_type": "markdown",
   "id": "927e6c8f",
   "metadata": {},
   "source": [
    "# 1) Encontrar carpeta data/raw \n"
   ]
  },
  {
   "cell_type": "code",
   "execution_count": 27,
   "id": "aa9889cd",
   "metadata": {},
   "outputs": [
    {
     "name": "stdout",
     "output_type": "stream",
     "text": [
      "C:\\Users\\cubea\\OneDrive\\Escritorio\\project_esports_occidente\\data\\raw\n"
     ]
    }
   ],
   "source": [
    "RAW = (Path.cwd().parent / \"data\" / \"raw\")\n",
    "if not RAW.exists():\n",
    "    base = Path.cwd()\n",
    "    for c in [base] + list(base.parents):\n",
    "        d = c / \"data\" / \"raw\"\n",
    "        if d.exists():\n",
    "            RAW = d\n",
    "            break\n",
    "\n",
    "print(RAW.resolve())       "
   ]
  },
  {
   "cell_type": "code",
   "execution_count": 28,
   "id": "4bfcdc97",
   "metadata": {},
   "outputs": [
    {
     "name": "stdout",
     "output_type": "stream",
     "text": [
      "twitch: (21000, 12) | esports: (10239, 5) | general: (669, 8)\n"
     ]
    }
   ],
   "source": [
    "twitch  = pd.read_csv(RAW / \"Twitch_game_data.csv\", encoding=\"cp1252\", sep=None, engine=\"python\")\n",
    "esports = pd.read_csv(RAW / \"HistoricalEsportData.csv\")\n",
    "general = pd.read_csv(RAW / \"GeneralEsportData.csv\")\n",
    "\n",
    "print(\"twitch:\", twitch.shape, \"| esports:\", esports.shape, \"| general:\", general.shape)\n",
    "\n",
    "\n"
   ]
  },
  {
   "cell_type": "markdown",
   "id": "34609faa",
   "metadata": {},
   "source": [
    "# Dataset 1: twitch_keep\n",
    "\n",
    "- Fuente: datos de Twitch por juego, mes y año.\n",
    "- Tema: mide la popularidad de los juegos."
   ]
  },
  {
   "cell_type": "code",
   "execution_count": 30,
   "id": "fa69555f",
   "metadata": {},
   "outputs": [],
   "source": [
    "twitch_keep = [\n",
    "    \"Game\", \"Year\", \"Month\",\n",
    "    \"Hours_watched\", \"Hours_streamed\",\n",
    "    \"Peak_viewers\", \"Peak_channels\",\n",
    "    \"Streamers\", \"Avg_viewers\", \"Avg_channels\",\n",
    "    \"Avg_viewer_ratio\"\n",
    "]\n",
    "twitch_simple = twitch[twitch_keep].copy()"
   ]
  },
  {
   "cell_type": "markdown",
   "id": "67a95de7",
   "metadata": {},
   "source": [
    "# Dataset 2: esports_keep\n",
    "- Fuente: Esports Earnings o datasets competitivos.\n",
    "- Tema: mide la competitividad económica (premios y torneos)."
   ]
  },
  {
   "cell_type": "code",
   "execution_count": 31,
   "id": "6a1fffa8",
   "metadata": {},
   "outputs": [],
   "source": [
    "esports_keep = [\"Game\", \"Date\", \"Earnings\", \"Players\", \"Tournaments\"]\n",
    "esports_simple = esports[esports_keep].copy()"
   ]
  },
  {
   "cell_type": "markdown",
   "id": "5d260d1a",
   "metadata": {},
   "source": [
    "# Dataset 3: general_keep\n",
    "\n",
    "- Fuente: General Esports Data (por juego, sin temporalidad).\n",
    "- Tema: características estáticas del juego"
   ]
  },
  {
   "cell_type": "code",
   "execution_count": 33,
   "id": "72bc4aea",
   "metadata": {},
   "outputs": [],
   "source": [
    "general_keep = [\n",
    "    \"Game\", \"ReleaseDate\", \"Genre\",\n",
    "    \"TotalEarnings\", \"OfflineEarnings\", \"PercentOffline\",\n",
    "    \"TotalPlayers\", \"TotalTournaments\"\n",
    "]\n",
    "general_simple = general[general_keep].copy()"
   ]
  },
  {
   "cell_type": "code",
   "execution_count": 37,
   "id": "fb915f59",
   "metadata": {},
   "outputs": [
    {
     "name": "stdout",
     "output_type": "stream",
     "text": [
      "COLUMNAS CLAVE POR DATASET\n",
      "twitch_keep : ['Game', 'Year', 'Month', 'Hours_watched', 'Hours_streamed', 'Peak_viewers', 'Peak_channels', 'Streamers', 'Avg_viewers', 'Avg_channels', 'Avg_viewer_ratio']\n",
      "esports_keep: ['Game', 'Date', 'Earnings', 'Players', 'Tournaments']\n",
      "general_keep: ['Game', 'ReleaseDate', 'Genre', 'TotalEarnings', 'OfflineEarnings', 'PercentOffline', 'TotalPlayers', 'TotalTournaments']\n"
     ]
    }
   ],
   "source": [
    "print(\"COLUMNAS CLAVE POR DATASET\")\n",
    "print(\"twitch_keep :\", twitch_keep)\n",
    "print(\"esports_keep:\", esports_keep)\n",
    "print(\"general_keep:\", general_keep)"
   ]
  },
  {
   "cell_type": "code",
   "execution_count": 35,
   "id": "2aef085b",
   "metadata": {},
   "outputs": [
    {
     "name": "stdout",
     "output_type": "stream",
     "text": [
      "\n",
      ">>> twitch_simple\n",
      "  filas, columnas : (21000, 11)\n",
      "  uniques[Game]: 2359\n",
      "  uniques[Year]: 9\n",
      "  uniques[Month]: 12\n",
      "\n",
      ">>> esports_simple\n",
      "  filas, columnas : (10239, 5)\n",
      "  uniques[Game]: 621\n",
      "  uniques[Date]: 309\n",
      "\n",
      ">>> general_simple\n",
      "  filas, columnas : (669, 8)\n",
      "  uniques[Game]: 669\n",
      "  uniques[Genre]: 12\n"
     ]
    }
   ],
   "source": [
    "def basic_counts(df, name):\n",
    "    print(f\"\\n>>> {name}\")\n",
    "    print(\"  filas, columnas :\", df.shape)\n",
    "    # columnas principales si existen:\n",
    "    for c in [\"Game\", \"Year\", \"Month\", \"Date\", \"Genre\"]:\n",
    "        if c in df.columns:\n",
    "            print(f\"  uniques[{c}]:\", df[c].nunique())\n",
    "\n",
    "basic_counts(twitch_simple,  \"twitch_simple\")\n",
    "basic_counts(esports_simple, \"esports_simple\")\n",
    "basic_counts(general_simple, \"general_simple\")"
   ]
  },
  {
   "cell_type": "markdown",
   "id": "c311444e",
   "metadata": {},
   "source": [
    "# Columnas clave entre sets, GAME - YEAR (Posible MONTH)"
   ]
  },
  {
   "cell_type": "markdown",
   "id": "6bb398ae",
   "metadata": {},
   "source": [
    "Twitch (Game-Year) + Esports (Game-Year) + General (Game) → Master dataset"
   ]
  },
  {
   "cell_type": "markdown",
   "id": "bc4eb03d",
   "metadata": {},
   "source": [
    "___________________________________________________________________________"
   ]
  },
  {
   "cell_type": "markdown",
   "id": "ec983a33",
   "metadata": {},
   "source": [
    "# Revision de Tipso de datos en los DATA SET"
   ]
  },
  {
   "cell_type": "code",
   "execution_count": 46,
   "id": "0ab0946c",
   "metadata": {},
   "outputs": [
    {
     "name": "stdout",
     "output_type": "stream",
     "text": [
      "TYPES — twitch_simple\n",
      "Game                 object\n",
      "Year                  int64\n",
      "Month                 int64\n",
      "Hours_watched         int64\n",
      "Hours_streamed        int64\n",
      "Peak_viewers          int64\n",
      "Peak_channels         int64\n",
      "Streamers             int64\n",
      "Avg_viewers           int64\n",
      "Avg_channels          int64\n",
      "Avg_viewer_ratio    float64\n",
      "dtype: object\n",
      "\n",
      "TYPES — esports_simple\n",
      "Game            object\n",
      "Date            object\n",
      "Earnings       float64\n",
      "Players          int64\n",
      "Tournaments      int64\n",
      "dtype: object\n",
      "\n",
      "TYPES — general_simple\n",
      "Game                 object\n",
      "ReleaseDate           int64\n",
      "Genre                object\n",
      "TotalEarnings        object\n",
      "OfflineEarnings      object\n",
      "PercentOffline      float64\n",
      "TotalPlayers          int64\n",
      "TotalTournaments      int64\n",
      "dtype: object\n"
     ]
    }
   ],
   "source": [
    "print(\"TYPES — twitch_simple\")\n",
    "print(twitch_simple.dtypes)\n",
    "\n",
    "print(\"\\nTYPES — esports_simple\")\n",
    "print(esports_simple.dtypes)\n",
    "\n",
    "print(\"\\nTYPES — general_simple\")\n",
    "print(general_simple.dtypes)\n"
   ]
  },
  {
   "cell_type": "markdown",
   "id": "7603cbed",
   "metadata": {},
   "source": [
    "___________________________________________________________"
   ]
  },
  {
   "cell_type": "markdown",
   "id": "557a225f",
   "metadata": {},
   "source": [
    "Convertimos *\"year\"* y *\"month\"* a númerico entero\n",
    "\n",
    "Si encontramos algo que no se puede convertir con (errors=\"coerce\") lo cambiamos a *\"NaN\"*"
   ]
  },
  {
   "cell_type": "code",
   "execution_count": null,
   "id": "157d239b",
   "metadata": {},
   "outputs": [],
   "source": [
    "twitch_simple[\"Year\"] = pd.to_numeric(twitch_simple[\"Year\"], errors=\"coerce\")\n",
    "twitch_simple[\"Month\"] = pd.to_numeric(twitch_simple[\"Month\"], errors=\"coerce\")\n",
    "\n",
    "\n",
    "\n",
    "# Date → Year\n",
    "esports_simple[\"Year\"] = pd.to_datetime(esports_simple[\"Date\"], errors=\"coerce\").dt.year"
   ]
  },
  {
   "cell_type": "code",
   "execution_count": 52,
   "id": "676275a4",
   "metadata": {},
   "outputs": [
    {
     "name": "stdout",
     "output_type": "stream",
     "text": [
      "Year     int64\n",
      "Month    int64\n",
      "dtype: object\n",
      "Meses únicos: [1, 2, 3, 4, 5, 6, 7, 8, 9, 10, 11, 12]\n"
     ]
    }
   ],
   "source": [
    "print(twitch_simple[[\"Year\",\"Month\"]].dtypes)\n",
    "print(\"Meses únicos:\", sorted(twitch_simple[\"Month\"].dropna().unique().tolist()))\n"
   ]
  },
  {
   "cell_type": "markdown",
   "id": "6a21b2ad",
   "metadata": {},
   "source": [
    "Convertimos las metricas numericas (premios, jugadores, torneos)a tipo numérico real parapoder agrupar mas tarde juego/año y calcular totales, o medias."
   ]
  },
  {
   "cell_type": "code",
   "execution_count": null,
   "id": "fd1e0331",
   "metadata": {},
   "outputs": [],
   "source": [
    "esports_simple[\"Earnings\"] = pd.to_numeric(esports_simple[\"Earnings\"], errors=\"coerce\")\n",
    "esports_simple[\"Players\"] = pd.to_numeric(esports_simple[\"Players\"], errors=\"coerce\")\n",
    "esports_simple[\"Tournaments\"] = pd.to_numeric(esports_simple[\"Tournaments\"], errors=\"coerce\")"
   ]
  },
  {
   "cell_type": "markdown",
   "id": "6bdb6ecc",
   "metadata": {},
   "source": [
    "Crear Year a partir de Date \n",
    "solo extraemos el año , lo necesitaremos para realizar la clave entre datasets \"Game-Year\" "
   ]
  },
  {
   "cell_type": "code",
   "execution_count": 57,
   "id": "f0f0516e",
   "metadata": {},
   "outputs": [],
   "source": [
    "esports_simple[\"Year\"] = pd.to_datetime(esports_simple[\"Date\"], errors=\"coerce\").dt.year"
   ]
  },
  {
   "cell_type": "code",
   "execution_count": 56,
   "id": "0df51631",
   "metadata": {},
   "outputs": [
    {
     "name": "stdout",
     "output_type": "stream",
     "text": [
      "      Date  Year\n",
      "1998-01-01  1998\n",
      "1998-01-01  1998\n",
      "1998-05-01  1998\n",
      "1998-05-01  1998\n",
      "1998-05-01  1998\n",
      "1998-07-01  1998\n",
      "1998-11-01  1998\n",
      "1998-11-01  1998\n",
      "1998-11-01  1998\n",
      "1998-12-01  1998\n",
      "Años NaN:  0\n",
      "Rango de años: 1998 → 2024\n"
     ]
    }
   ],
   "source": [
    "print(esports_simple[[\"Date\",\"Year\"]].head(10).to_string(index=False))\n",
    "print(\"Años NaN: \", esports_simple[\"Year\"].isna().sum())\n",
    "print(\"Rango de años:\", int(esports_simple[\"Year\"].min()), \"→\", int(esports_simple[\"Year\"].max()))\n"
   ]
  },
  {
   "cell_type": "markdown",
   "id": "1b1eacfd",
   "metadata": {},
   "source": [
    "La idea es quedarnos con las fechas del 2016-2024 ya que no tenemos datos anteriores de streaming para hacer comparativas, cabe la posibilidad de que utilicemos los datos anteriores de streaming para mas estudio."
   ]
  },
  {
   "cell_type": "code",
   "execution_count": null,
   "id": "866c612a",
   "metadata": {},
   "outputs": [],
   "source": []
  }
 ],
 "metadata": {
  "kernelspec": {
   "display_name": "base",
   "language": "python",
   "name": "python3"
  },
  "language_info": {
   "codemirror_mode": {
    "name": "ipython",
    "version": 3
   },
   "file_extension": ".py",
   "mimetype": "text/x-python",
   "name": "python",
   "nbconvert_exporter": "python",
   "pygments_lexer": "ipython3",
   "version": "3.13.5"
  }
 },
 "nbformat": 4,
 "nbformat_minor": 5
}
